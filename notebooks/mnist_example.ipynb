{
 "cells": [
  {
   "cell_type": "code",
   "execution_count": 1,
   "metadata": {},
   "outputs": [
    {
     "name": "stdout",
     "output_type": "stream",
     "text": [
      "env: CUDA_VISIBLE_DEVICES=0\n"
     ]
    }
   ],
   "source": [
    "import sys\n",
    "sys.path.append('..')\n",
    "%env CUDA_VISIBLE_DEVICES=0"
   ]
  },
  {
   "cell_type": "code",
   "execution_count": 2,
   "metadata": {},
   "outputs": [],
   "source": [
    "%load_ext autoreload\n",
    "%autoreload 2"
   ]
  },
  {
   "cell_type": "code",
   "execution_count": 3,
   "metadata": {},
   "outputs": [],
   "source": [
    "from copy import deepcopy\n",
    "\n",
    "from sklearn.datasets import make_moons\n",
    "from sklearn.model_selection import train_test_split\n",
    "from sklearn.metrics import roc_auc_score\n",
    "\n",
    "import numpy as np\n",
    "import pandas as pd\n",
    "\n",
    "import torch\n",
    "import torch.nn as nn\n",
    "import torch.optim as optim\n",
    "import torch.nn.functional as F\n",
    "from torch.distributions import MultivariateNormal\n",
    "from catboost import CatBoostClassifier\n",
    "import catboost\n",
    "from scipy.special import logsumexp, expit\n",
    "\n",
    "from src.nf import (\n",
    "    FCNN,\n",
    "    ConditionalNormalizingFlowModel,\n",
    "    UnconditionalNormalizingFlowModel,\n",
    "    cond_neg_log_likelihood,\n",
    "    one_hot_encoding,\n",
    "    ConditionalMAF,\n",
    "    TorchDistributionWrapper,\n",
    "    ConditionalNormal,\n",
    "    TorchDistributionWrapper,\n",
    "    NormalizingFlowModel,\n",
    "#     MAF,\n",
    "    BaseConditionalFlow,\n",
    "    wrap_cb,\n",
    "    ConditionalCalibratedModel,\n",
    "    deduce_calibration_constant,\n",
    "    FakeCondDistribution,\n",
    "    BaseConditionalDistribution,\n",
    "    BaseUnconditionalDistribution,\n",
    "    CalibratedModel,\n",
    "    neg_log_likelihood,\n",
    "    NFLibFlowAdapter,\n",
    "    ActNorm\n",
    ")\n",
    "from src.nf.classic.utils import Densnet\n",
    "from src.mrartemev_nflib.flows import MAF, InvertiblePermutation\n",
    "from src.mrartemev_nflib.nn import ARMLP\n",
    "from src.mrartemev_nflib.nn.networks_utils import MaskedLinear\n",
    "\n",
    "import matplotlib.pyplot as plt\n",
    "from IPython.display import clear_output\n",
    "\n",
    "%matplotlib inline"
   ]
  },
  {
   "cell_type": "code",
   "execution_count": 4,
   "metadata": {},
   "outputs": [],
   "source": [
    "device = torch.device(\"cuda\" if torch.cuda.is_available() else \"cpu\")"
   ]
  },
  {
   "cell_type": "code",
   "execution_count": 5,
   "metadata": {},
   "outputs": [
    {
     "name": "stdout",
     "output_type": "stream",
     "text": [
      "Wed May 27 19:10:50 2020       \r\n",
      "+-----------------------------------------------------------------------------+\r\n",
      "| NVIDIA-SMI 440.64       Driver Version: 440.64       CUDA Version: 10.2     |\r\n",
      "|-------------------------------+----------------------+----------------------+\r\n",
      "| GPU  Name        Persistence-M| Bus-Id        Disp.A | Volatile Uncorr. ECC |\r\n",
      "| Fan  Temp  Perf  Pwr:Usage/Cap|         Memory-Usage | GPU-Util  Compute M. |\r\n",
      "|===============================+======================+======================|\r\n",
      "|   0  GeForce GTX 108...  Off  | 00000000:01:00.0 Off |                  N/A |\r\n",
      "| 34%   69C    P2    82W / 250W |   8853MiB / 11178MiB |     12%      Default |\r\n",
      "+-------------------------------+----------------------+----------------------+\r\n",
      "|   1  GeForce GTX 108...  Off  | 00000000:02:00.0 Off |                  N/A |\r\n",
      "| 20%   28C    P8     8W / 250W |      2MiB / 11178MiB |      0%      Default |\r\n",
      "+-------------------------------+----------------------+----------------------+\r\n",
      "                                                                               \r\n",
      "+-----------------------------------------------------------------------------+\r\n",
      "| Processes:                                                       GPU Memory |\r\n",
      "|  GPU       PID   Type   Process name                             Usage      |\r\n",
      "|=============================================================================|\r\n",
      "|    0      2124      C   /home/robdrynkin/anaconda3/bin/python       8841MiB |\r\n",
      "+-----------------------------------------------------------------------------+\r\n"
     ]
    }
   ],
   "source": [
    "! nvidia-smi"
   ]
  },
  {
   "cell_type": "code",
   "execution_count": 6,
   "metadata": {},
   "outputs": [],
   "source": [
    "# ! wget https://zenodo.org/record/1161203/files/data.tar.gz?download=1"
   ]
  },
  {
   "cell_type": "code",
   "execution_count": 7,
   "metadata": {},
   "outputs": [],
   "source": [
    "# ! mkdir data\n",
    "# ! mv 'data.tar.gz?download=1' data/data.tar.gz\n",
    "# ! ls data"
   ]
  },
  {
   "cell_type": "code",
   "execution_count": 8,
   "metadata": {},
   "outputs": [],
   "source": [
    "# ! tar -zxvf data/data.tar.gz\n",
    "# ! ls data"
   ]
  },
  {
   "cell_type": "code",
   "execution_count": 9,
   "metadata": {},
   "outputs": [],
   "source": [
    "# ! ls data/mnist"
   ]
  },
  {
   "cell_type": "code",
   "execution_count": 10,
   "metadata": {},
   "outputs": [],
   "source": [
    "import gzip\n",
    "import _pickle as pickle\n",
    "\n",
    "def disp_imdata(xs, imsize, layout=(1,1)):\n",
    "    \"\"\"\n",
    "    Displays an array of images, a page at a time. The user can navigate pages with\n",
    "    left and right arrows, start over by pressing space, or close the figure by esc.\n",
    "    :param xs: an numpy array with images as rows\n",
    "    :param imsize: size of the images\n",
    "    :param layout: layout of images in a page\n",
    "    :return: none\n",
    "    \"\"\"\n",
    "\n",
    "    num_plots = np.prod(layout)\n",
    "    num_xs = xs.shape[0]\n",
    "    idx = [0]\n",
    "\n",
    "    # create a figure with suplots\n",
    "    fig, axs = plt.subplots(layout[0], layout[1])\n",
    "\n",
    "    if isinstance(axs, np.ndarray):\n",
    "        axs = axs.flatten()\n",
    "    else:\n",
    "        axs = [axs]\n",
    "\n",
    "    for ax in axs:\n",
    "        ax.axes.get_xaxis().set_visible(False)\n",
    "        ax.axes.get_yaxis().set_visible(False)\n",
    "\n",
    "    def plot_page():\n",
    "        \"\"\"Plots the next page.\"\"\"\n",
    "\n",
    "        ii = np.arange(idx[0], idx[0]+num_plots) % num_xs\n",
    "\n",
    "        for ax, i in zip(axs, ii):\n",
    "            ax.imshow(xs[i].reshape(imsize), cmap='gray', interpolation='none')\n",
    "            ax.set_title(str(i))\n",
    "\n",
    "        fig.canvas.draw()\n",
    "\n",
    "    def on_key_event(event):\n",
    "        \"\"\"Event handler after key press.\"\"\"\n",
    "\n",
    "        key = event.key\n",
    "\n",
    "        if key == 'right':\n",
    "            # show next page\n",
    "            idx[0] = (idx[0] + num_plots) % num_xs\n",
    "            plot_page()\n",
    "\n",
    "        elif key == 'left':\n",
    "            # show previous page\n",
    "            idx[0] = (idx[0] - num_plots) % num_xs\n",
    "            plot_page()\n",
    "\n",
    "        elif key == ' ':\n",
    "            # show first page\n",
    "            idx[0] = 0\n",
    "            plot_page()\n",
    "\n",
    "        elif key == 'escape':\n",
    "            # close figure\n",
    "            plt.close(fig)\n",
    "\n",
    "    fig.canvas.mpl_connect('key_press_event', on_key_event)\n",
    "    plot_page()\n",
    "\n",
    "def logit(x):\n",
    "    \"\"\"\n",
    "    Elementwise logit (inverse logistic sigmoid).\n",
    "    :param x: numpy array\n",
    "    :return: numpy array\n",
    "    \"\"\"\n",
    "    return np.log(x / (1.0 - x))\n",
    "\n",
    "\n",
    "class MNIST:\n",
    "    \"\"\"\n",
    "    The MNIST dataset of handwritten digits.\n",
    "    \"\"\"\n",
    "\n",
    "    alpha = 1.0e-6\n",
    "\n",
    "    class Data:\n",
    "        \"\"\"\n",
    "        Constructs the dataset.\n",
    "        \"\"\"\n",
    "\n",
    "        def __init__(self, data, logit, dequantize, rng):\n",
    "\n",
    "            x = self._dequantize(data[0], rng) if dequantize else data[0]  # dequantize pixels\n",
    "            self.x = self._logit_transform(x) if logit else x              # logit\n",
    "            self.labels = data[1]                                          # numeric labels\n",
    "            self.y = one_hot_encoding(self.labels, 10)                     # 1-hot encoded labels\n",
    "            self.N = self.x.shape[0]                                       # number of datapoints\n",
    "\n",
    "        @staticmethod\n",
    "        def _dequantize(x, rng):\n",
    "            \"\"\"\n",
    "            Adds noise to pixels to dequantize them.\n",
    "            \"\"\"\n",
    "            return x + rng.rand(*x.shape) / 256.0\n",
    "\n",
    "        @staticmethod\n",
    "        def _logit_transform(x):\n",
    "            \"\"\"\n",
    "            Transforms pixel values with logit to be unconstrained.\n",
    "            \"\"\"\n",
    "            return logit(MNIST.alpha + (1 - 2*MNIST.alpha) * x)\n",
    "\n",
    "    def __init__(self, logit=False, dequantize=True):\n",
    "\n",
    "        # load dataset\n",
    "        f = gzip.open('data/mnist/mnist.pkl.gz', 'rb')\n",
    "#         f = open('data/mnist.pkl', 'rb')\n",
    "        trn, val, tst = pickle.load(f, encoding='latin1') \n",
    "        f.close()\n",
    "\n",
    "        rng = np.random.RandomState(42)\n",
    "        self.trn = self.Data(trn, logit, dequantize, rng)\n",
    "        self.val = self.Data(val, logit, dequantize, rng)\n",
    "        self.tst = self.Data(tst, logit, dequantize, rng)\n",
    "\n",
    "        self.n_dims = self.trn.x.shape[1]\n",
    "        self.n_labels = self.trn.y.shape[1]\n",
    "        self.image_size = [int(np.sqrt(self.n_dims))] * 2\n",
    "\n",
    "    def show_pixel_histograms(self, split, pixel=None):\n",
    "        \"\"\"\n",
    "        Shows the histogram of pixel values, or of a specific pixel if given.\n",
    "        \"\"\"\n",
    "\n",
    "        data_split = getattr(self, split, None)\n",
    "        if data_split is None:\n",
    "            raise ValueError('Invalid data split')\n",
    "\n",
    "        if pixel is None:\n",
    "            data = data_split.x.flatten()\n",
    "\n",
    "        else:\n",
    "            row, col = pixel\n",
    "            idx = row * self.image_size[0] + col\n",
    "            data = data_split.x[:, idx]\n",
    "\n",
    "        n_bins = int(np.sqrt(data_split.N))\n",
    "        fig, ax = plt.subplots(1, 1)\n",
    "        ax.hist(data, n_bins, normed=True)\n",
    "        plt.show()\n",
    "\n",
    "    def show_images(self, split):\n",
    "        \"\"\"\n",
    "        Displays the images in a given split.\n",
    "        :param split: string\n",
    "        \"\"\"\n",
    "\n",
    "        # get split\n",
    "        data_split = getattr(self, split, None)\n",
    "        if data_split is None:\n",
    "            raise ValueError('Invalid data split')\n",
    "\n",
    "        # display images\n",
    "        disp_imdata(data_split.x, self.image_size, [6, 10])\n",
    "\n",
    "        plt.show()"
   ]
  },
  {
   "cell_type": "code",
   "execution_count": 11,
   "metadata": {},
   "outputs": [],
   "source": [
    "# https://github.com/gpapamak/maf/blob/ea057bf6dd2e53dd8a0bc162880db72cf99e063d/experiments.py#L51\n",
    "mnist = MNIST(logit=True, dequantize=True)"
   ]
  },
  {
   "cell_type": "code",
   "execution_count": 12,
   "metadata": {},
   "outputs": [
    {
     "data": {
      "text/plain": [
       "<matplotlib.colorbar.Colorbar at 0x7f7b3d6b9828>"
      ]
     },
     "execution_count": 12,
     "metadata": {},
     "output_type": "execute_result"
    },
    {
     "data": {
      "image/png": "[encoded data removed]",
      "text/plain": [
       "<Figure size 432x288 with 2 Axes>"
      ]
     },
     "metadata": {
      "needs_background": "light"
     },
     "output_type": "display_data"
    }
   ],
   "source": [
    "X, Y = mnist.trn.x, mnist.trn.y\n",
    "dim, cond_dim = X.shape[1], Y.shape[1]\n",
    "X = X.astype(np.float32)\n",
    "X_train, X_test, Y_train, Y_test = mnist.trn.x.astype(np.float32), mnist.tst.x.astype(np.float32), mnist.trn.y.astype(np.float32), mnist.tst.y.astype(np.float32)\n",
    "\n",
    "plt.imshow(mnist.trn.x[0].reshape(28, 28))\n",
    "plt.colorbar()"
   ]
  },
  {
   "cell_type": "code",
   "execution_count": 13,
   "metadata": {},
   "outputs": [],
   "source": [
    "X_train_tensor = torch.from_numpy(X_train).to(device)\n",
    "X_test_tensor = torch.from_numpy(X_test).to(device)\n",
    "Y_train_tensor = torch.from_numpy(Y_train).to(device)\n",
    "Y_test_tensor = torch.from_numpy(Y_test).to(device)"
   ]
  },
  {
   "cell_type": "code",
   "execution_count": 14,
   "metadata": {},
   "outputs": [],
   "source": [
    "def data_gen(X, Y, batch_size):\n",
    "    while True:\n",
    "        perm = torch.randperm(len(X))\n",
    "        X, Y = X[perm], Y[perm]\n",
    "        for i in range(0, len(X), batch_size):\n",
    "            yield X[i: i + batch_size], Y[i: i + batch_size]"
   ]
  },
  {
   "cell_type": "code",
   "execution_count": 20,
   "metadata": {},
   "outputs": [],
   "source": [
    "flows = []\n",
    "for i in range(8):\n",
    "    flows.append(ActNorm(dim).to(device))\n",
    "    flows.append(NFLibFlowAdapter(MAF(dim, ARMLP, context=cond_dim, depth=4, hidden_features=768).to(device)))\n",
    "#     flows.append(NFLibFlowAdapter(InvertiblePermutation(dim).to(device)))\n",
    "\n",
    "prior = ConditionalNormal(\n",
    "    torch.zeros(dim).to(device), torch.eye(dim).to(device),\n",
    "    nn.Linear(cond_dim, dim), nn.Linear(cond_dim, dim)\n",
    ").to(device)\n",
    "model = ConditionalNormalizingFlowModel(dim, cond_dim, prior, flows).to(device)\n",
    "optimizer = optim.Adam(model.parameters(), lr=0.005)"
   ]
  },
  {
   "cell_type": "code",
   "execution_count": 21,
   "metadata": {},
   "outputs": [
    {
     "name": "stdout",
     "output_type": "stream",
     "text": [
      "Wed May 27 19:12:38 2020       \r\n",
      "+-----------------------------------------------------------------------------+\r\n",
      "| NVIDIA-SMI 440.64       Driver Version: 440.64       CUDA Version: 10.2     |\r\n",
      "|-------------------------------+----------------------+----------------------+\r\n",
      "| GPU  Name        Persistence-M| Bus-Id        Disp.A | Volatile Uncorr. ECC |\r\n",
      "| Fan  Temp  Perf  Pwr:Usage/Cap|         Memory-Usage | GPU-Util  Compute M. |\r\n",
      "|===============================+======================+======================|\r\n",
      "|   0  GeForce GTX 108...  Off  | 00000000:01:00.0 Off |                  N/A |\r\n",
      "| 39%   71C    P2    79W / 250W |   8663MiB / 11178MiB |      7%      Default |\r\n",
      "+-------------------------------+----------------------+----------------------+\r\n",
      "|   1  GeForce GTX 108...  Off  | 00000000:02:00.0 Off |                  N/A |\r\n",
      "| 20%   28C    P8     7W / 250W |      2MiB / 11178MiB |      0%      Default |\r\n",
      "+-------------------------------+----------------------+----------------------+\r\n",
      "                                                                               \r\n",
      "+-----------------------------------------------------------------------------+\r\n",
      "| Processes:                                                       GPU Memory |\r\n",
      "|  GPU       PID   Type   Process name                             Usage      |\r\n",
      "|=============================================================================|\r\n",
      "|    0      2173      C   /home/robdrynkin/anaconda3/bin/python       8651MiB |\r\n",
      "+-----------------------------------------------------------------------------+\r\n"
     ]
    }
   ],
   "source": [
    "! nvidia-smi"
   ]
  },
  {
   "cell_type": "code",
   "execution_count": 17,
   "metadata": {},
   "outputs": [
    {
     "name": "stderr",
     "output_type": "stream",
     "text": [
      "/home/robdrynkin/anaconda3/lib/python3.7/site-packages/torch/distributions/distribution.py:134: UserWarning: sample_n will be deprecated. Use .sample((n,)) instead\n",
      "  warnings.warn('sample_n will be deprecated. Use .sample((n,)) instead', UserWarning)\n"
     ]
    },
    {
     "data": {
      "text/plain": [
       "<matplotlib.image.AxesImage at 0x7f7b3c325cf8>"
      ]
     },
     "execution_count": 17,
     "metadata": {},
     "output_type": "execute_result"
    },
    {
     "data": {
      "image/png": "[encoded data removed]",
      "text/plain": [
       "<Figure size 432x288 with 1 Axes>"
      ]
     },
     "metadata": {
      "needs_background": "light"
     },
     "output_type": "display_data"
    }
   ],
   "source": [
    "samples = model.sample_n(1, Y_train_tensor[:1]).detach().cpu().numpy()\n",
    "\n",
    "plt.imshow(samples[0].reshape(28, 28))"
   ]
  },
  {
   "cell_type": "code",
   "execution_count": 22,
   "metadata": {},
   "outputs": [],
   "source": [
    "epoches = 5001\n",
    "metrics_ll_train, metrics_ll_test = [], []\n",
    "best_loss = -10000"
   ]
  },
  {
   "cell_type": "code",
   "execution_count": null,
   "metadata": {
    "scrolled": false
   },
   "outputs": [
    {
     "data": {
      "image/png": "[encoded data removed]",
      "text/plain": [
       "<Figure size 1296x864 with 15 Axes>"
      ]
     },
     "metadata": {
      "needs_background": "light"
     },
     "output_type": "display_data"
    }
   ],
   "source": [
    "train_gen = data_gen(X_train_tensor, Y_train_tensor, 10000)\n",
    "test_gen = data_gen(X_test_tensor, Y_test_tensor, 10000)\n",
    "\n",
    "for i in range(len(metrics_ll_train), epoches):\n",
    "    model.train()\n",
    "    optimizer.zero_grad()\n",
    "    logp_x = model.log_prob(*next(train_gen))\n",
    "    loss = -torch.mean(logp_x)\n",
    "    loss.backward()\n",
    "    optimizer.step()\n",
    "\n",
    "    if i % 50 == 0:\n",
    "        model.eval()\n",
    "        with torch.no_grad():\n",
    "            log_prob = model.log_prob(X_train_tensor[:10000], Y_train_tensor[:10000])\n",
    "            metrics_ll_train.append(torch.mean(log_prob).item())\n",
    "            log_prob = model.log_prob(X_test_tensor[:10000], Y_test_tensor[:10000])\n",
    "            metrics_ll_test.append(torch.mean(log_prob).item())\n",
    "            \n",
    "            n_samples = 10\n",
    "            cond = torch.eye(10).to(device)\n",
    "            samples = model.sample_n(10, cond).detach().cpu().numpy()\n",
    "            \n",
    "            if metrics_ll_test[-1] > best_loss:\n",
    "                torch.save({\n",
    "                    'epoch': i,\n",
    "                    'model_state_dict': model.state_dict(),\n",
    "                    'optimizer_state_dict': optimizer.state_dict(),\n",
    "                    'metrics_ll_train': metrics_ll_train,\n",
    "                    'metrics_ll_test': metrics_ll_test,\n",
    "                }, './mnist_best_1')\n",
    "\n",
    "        clear_output(False)\n",
    "        fig, axs = plt.subplots(3, 5, figsize=(18, 12))\n",
    "        \n",
    "        for i in range(10):\n",
    "            axs[i // 5, i % 5].imshow(samples[i].reshape(28, 28))\n",
    "        \n",
    "        axs[2, 0].plot(metrics_ll_train)\n",
    "        axs[2, 0].plot(metrics_ll_test)\n",
    "        plt.show()"
   ]
  },
  {
   "cell_type": "code",
   "execution_count": 17,
   "metadata": {},
   "outputs": [
    {
     "data": {
      "text/plain": [
       "<All keys matched successfully>"
      ]
     },
     "execution_count": 17,
     "metadata": {},
     "output_type": "execute_result"
    }
   ],
   "source": [
    "checkpoint = torch.load('./mnist_best')\n",
    "model.load_state_dict(checkpoint['model_state_dict'])"
   ]
  },
  {
   "cell_type": "code",
   "execution_count": 19,
   "metadata": {},
   "outputs": [
    {
     "data": {
      "image/png": "[encoded data removed]",
      "text/plain": [
       "<Figure size 1296x864 with 10 Axes>"
      ]
     },
     "metadata": {
      "needs_background": "light"
     },
     "output_type": "display_data"
    }
   ],
   "source": [
    "cond = torch.eye(10).to(device)\n",
    "samples = model.sample_n(10, cond).detach().cpu().numpy()\n",
    "clear_output(False)\n",
    "fig, axs = plt.subplots(2, 5, figsize=(18, 12))\n",
    "\n",
    "for i in range(10):\n",
    "    axs[i // 5, i % 5].imshow(samples[i].reshape(28, 28))"
   ]
  },
  {
   "cell_type": "code",
   "execution_count": 20,
   "metadata": {},
   "outputs": [
    {
     "data": {
      "text/plain": [
       "(50000, 784)"
      ]
     },
     "execution_count": 20,
     "metadata": {},
     "output_type": "execute_result"
    }
   ],
   "source": [
    "model.eval()\n",
    "with torch.no_grad():\n",
    "    samples = model.sample_n(len(X_train), Y_train_tensor).detach().cpu().numpy()\n",
    "samples.shape"
   ]
  },
  {
   "cell_type": "code",
   "execution_count": 93,
   "metadata": {},
   "outputs": [],
   "source": [
    "X_clf = np.vstack([samples.reshape(-1, 1, 28, 28), X_train.reshape(-1, 1, 28, 28)])\n",
    "Y_clf = np.hstack([np.zeros(len(samples)), np.ones(len(X_train))]).astype(np.float32)\n",
    "perm = torch.randperm(len(X_clf))\n",
    "X_clf, Y_clf = X_clf[perm], Y_clf[perm]\n",
    "\n",
    "n = X_clf.shape[0]\n",
    "X_clf_train, X_clf_test, Y_clf_train, Y_clf_test = X_clf[: n * 7 // 10], X_clf[n * 7 // 10: ], Y_clf[: n * 7 // 10], Y_clf[n * 7 // 10: ]"
   ]
  },
  {
   "cell_type": "code",
   "execution_count": 117,
   "metadata": {},
   "outputs": [],
   "source": [
    "X_clf_train_tensor = torch.from_numpy(X_clf_train).to(device)\n",
    "X_clf_test_tensor = torch.from_numpy(X_clf_test).to(device)\n",
    "Y_clf_train_tensor = torch.from_numpy(Y_clf_train).to(device)\n",
    "Y_clf_test_tensor = torch.from_numpy(Y_clf_test).to(device)"
   ]
  },
  {
   "cell_type": "code",
   "execution_count": 118,
   "metadata": {},
   "outputs": [],
   "source": [
    "class MNISTClf(nn.Module):\n",
    "    def __init__(self):\n",
    "        super().__init__()\n",
    "        self.conv1 = nn.Conv2d(1, 3, 3)\n",
    "        self.conv2 = nn.Conv2d(3, 3, 3)\n",
    "        self.pool = nn.MaxPool2d(2, 2)\n",
    "        self.conv3 = nn.Conv2d(3, 5, 5)\n",
    "        self.conv4 = nn.Conv2d(5, 5, 5)\n",
    "        self.fc1 = nn.Linear(5 * 4 * 4, 64)\n",
    "        self.fc2 = nn.Linear(64, 32)\n",
    "        self.fc3 = nn.Linear(32, 1)\n",
    "\n",
    "    def forward(self, x):\n",
    "#         print(x.shape)\n",
    "#         x = self.pool(F.relu(self.conv1(x)))\n",
    "#         print(x.shape)\n",
    "#         x = self.pool(F.relu(self.conv2(x)))\n",
    "        x = F.relu(self.conv1(x))\n",
    "        x = F.relu(self.conv2(x))\n",
    "        x = self.pool(x)\n",
    "        x = F.relu(self.conv3(x))\n",
    "        x = F.relu(self.conv4(x))\n",
    "#         print(x.shape)\n",
    "        x = x.view(-1, 5 * 4 * 4)\n",
    "#         print(x.shape)\n",
    "        x = F.relu(self.fc1(x))\n",
    "        x = F.relu(self.fc2(x))\n",
    "        x = self.fc3(x)\n",
    "        return x.view(-1)"
   ]
  },
  {
   "cell_type": "code",
   "execution_count": 119,
   "metadata": {},
   "outputs": [],
   "source": [
    "clf = MNISTClf().to(device)\n",
    "criterion = nn.BCEWithLogitsLoss()\n",
    "optimizer = optim.Adam(clf.parameters(), lr=0.005)"
   ]
  },
  {
   "cell_type": "code",
   "execution_count": 120,
   "metadata": {},
   "outputs": [],
   "source": [
    "epoches = 5001\n",
    "loss_train, loss_test = [], []"
   ]
  },
  {
   "cell_type": "code",
   "execution_count": 121,
   "metadata": {},
   "outputs": [
    {
     "data": {
      "image/png": "[encoded data removed]",
      "text/plain": [
       "<Figure size 432x288 with 1 Axes>"
      ]
     },
     "metadata": {
      "needs_background": "light"
     },
     "output_type": "display_data"
    },
    {
     "ename": "KeyboardInterrupt",
     "evalue": "",
     "output_type": "error",
     "traceback": [
      "\u001b[0;31m---------------------------------------------------------------------------\u001b[0m",
      "\u001b[0;31mKeyboardInterrupt\u001b[0m                         Traceback (most recent call last)",
      "\u001b[0;32m<ipython-input-121-338f84a82877>\u001b[0m in \u001b[0;36m<module>\u001b[0;34m\u001b[0m\n\u001b[1;32m      8\u001b[0m     \u001b[0mloss\u001b[0m \u001b[0;34m=\u001b[0m \u001b[0mcriterion\u001b[0m\u001b[0;34m(\u001b[0m\u001b[0mlogits\u001b[0m\u001b[0;34m,\u001b[0m \u001b[0mY_batch\u001b[0m\u001b[0;34m)\u001b[0m\u001b[0;34m\u001b[0m\u001b[0;34m\u001b[0m\u001b[0m\n\u001b[1;32m      9\u001b[0m     \u001b[0mloss\u001b[0m\u001b[0;34m.\u001b[0m\u001b[0mbackward\u001b[0m\u001b[0;34m(\u001b[0m\u001b[0;34m)\u001b[0m\u001b[0;34m\u001b[0m\u001b[0;34m\u001b[0m\u001b[0m\n\u001b[0;32m---> 10\u001b[0;31m     \u001b[0moptimizer\u001b[0m\u001b[0;34m.\u001b[0m\u001b[0mstep\u001b[0m\u001b[0;34m(\u001b[0m\u001b[0;34m)\u001b[0m\u001b[0;34m\u001b[0m\u001b[0;34m\u001b[0m\u001b[0m\n\u001b[0m\u001b[1;32m     11\u001b[0m \u001b[0;34m\u001b[0m\u001b[0m\n\u001b[1;32m     12\u001b[0m     \u001b[0;32mif\u001b[0m \u001b[0mi\u001b[0m \u001b[0;34m%\u001b[0m \u001b[0;36m10\u001b[0m \u001b[0;34m==\u001b[0m \u001b[0;36m0\u001b[0m\u001b[0;34m:\u001b[0m\u001b[0;34m\u001b[0m\u001b[0;34m\u001b[0m\u001b[0m\n",
      "\u001b[0;32m~/anaconda3/lib/python3.7/site-packages/torch/optim/adam.py\u001b[0m in \u001b[0;36mstep\u001b[0;34m(self, closure)\u001b[0m\n\u001b[1;32m    101\u001b[0m                     \u001b[0mdenom\u001b[0m \u001b[0;34m=\u001b[0m \u001b[0;34m(\u001b[0m\u001b[0mmax_exp_avg_sq\u001b[0m\u001b[0;34m.\u001b[0m\u001b[0msqrt\u001b[0m\u001b[0;34m(\u001b[0m\u001b[0;34m)\u001b[0m \u001b[0;34m/\u001b[0m \u001b[0mmath\u001b[0m\u001b[0;34m.\u001b[0m\u001b[0msqrt\u001b[0m\u001b[0;34m(\u001b[0m\u001b[0mbias_correction2\u001b[0m\u001b[0;34m)\u001b[0m\u001b[0;34m)\u001b[0m\u001b[0;34m.\u001b[0m\u001b[0madd_\u001b[0m\u001b[0;34m(\u001b[0m\u001b[0mgroup\u001b[0m\u001b[0;34m[\u001b[0m\u001b[0;34m'eps'\u001b[0m\u001b[0;34m]\u001b[0m\u001b[0;34m)\u001b[0m\u001b[0;34m\u001b[0m\u001b[0;34m\u001b[0m\u001b[0m\n\u001b[1;32m    102\u001b[0m                 \u001b[0;32melse\u001b[0m\u001b[0;34m:\u001b[0m\u001b[0;34m\u001b[0m\u001b[0;34m\u001b[0m\u001b[0m\n\u001b[0;32m--> 103\u001b[0;31m                     \u001b[0mdenom\u001b[0m \u001b[0;34m=\u001b[0m \u001b[0;34m(\u001b[0m\u001b[0mexp_avg_sq\u001b[0m\u001b[0;34m.\u001b[0m\u001b[0msqrt\u001b[0m\u001b[0;34m(\u001b[0m\u001b[0;34m)\u001b[0m \u001b[0;34m/\u001b[0m \u001b[0mmath\u001b[0m\u001b[0;34m.\u001b[0m\u001b[0msqrt\u001b[0m\u001b[0;34m(\u001b[0m\u001b[0mbias_correction2\u001b[0m\u001b[0;34m)\u001b[0m\u001b[0;34m)\u001b[0m\u001b[0;34m.\u001b[0m\u001b[0madd_\u001b[0m\u001b[0;34m(\u001b[0m\u001b[0mgroup\u001b[0m\u001b[0;34m[\u001b[0m\u001b[0;34m'eps'\u001b[0m\u001b[0;34m]\u001b[0m\u001b[0;34m)\u001b[0m\u001b[0;34m\u001b[0m\u001b[0;34m\u001b[0m\u001b[0m\n\u001b[0m\u001b[1;32m    104\u001b[0m \u001b[0;34m\u001b[0m\u001b[0m\n\u001b[1;32m    105\u001b[0m                 \u001b[0mstep_size\u001b[0m \u001b[0;34m=\u001b[0m \u001b[0mgroup\u001b[0m\u001b[0;34m[\u001b[0m\u001b[0;34m'lr'\u001b[0m\u001b[0;34m]\u001b[0m \u001b[0;34m/\u001b[0m \u001b[0mbias_correction1\u001b[0m\u001b[0;34m\u001b[0m\u001b[0;34m\u001b[0m\u001b[0m\n",
      "\u001b[0;31mKeyboardInterrupt\u001b[0m: "
     ]
    }
   ],
   "source": [
    "train_gen = data_gen(X_clf_train_tensor, Y_clf_train_tensor, 5000)\n",
    "test_gen = data_gen(X_clf_test_tensor, Y_clf_test_tensor, 5000)\n",
    "\n",
    "for i, (X_batch, Y_batch) in zip(range(len(loss_train), epoches), train_gen):\n",
    "    clf.train()\n",
    "    optimizer.zero_grad()\n",
    "    logits = clf(X_batch)\n",
    "    loss = criterion(logits, Y_batch)\n",
    "    loss.backward()\n",
    "    optimizer.step()\n",
    "    \n",
    "    if i % 10 == 0:\n",
    "        loss_train.append(loss.item())\n",
    "        clf.eval()\n",
    "        with torch.no_grad():\n",
    "            X_batch, Y_batch = next(test_gen)\n",
    "            loss_test.append(criterion(clf(X_batch), Y_batch).item())\n",
    "        \n",
    "        clear_output(False)\n",
    "        plt.plot(loss_train, label='train')\n",
    "        plt.plot(loss_test, label='test')\n",
    "        plt.legend()\n",
    "        plt.show()"
   ]
  },
  {
   "cell_type": "code",
   "execution_count": 122,
   "metadata": {},
   "outputs": [
    {
     "name": "stdout",
     "output_type": "stream",
     "text": [
      "0.9999923198513123\n"
     ]
    }
   ],
   "source": [
    "clf.eval()\n",
    "with torch.no_grad():\n",
    "    X_batch, Y_batch = next(test_gen)\n",
    "    preds = clf(X_batch).detach().cpu().numpy()\n",
    "    print(roc_auc_score(Y_batch.detach().cpu().numpy(), preds))"
   ]
  },
  {
   "cell_type": "code",
   "execution_count": 123,
   "metadata": {},
   "outputs": [
    {
     "data": {
      "image/png": "[encoded data removed]",
      "text/plain": [
       "<Figure size 432x288 with 1 Axes>"
      ]
     },
     "metadata": {
      "needs_background": "light"
     },
     "output_type": "display_data"
    }
   ],
   "source": [
    "plt.hist(preds, bins=100);"
   ]
  },
  {
   "cell_type": "code",
   "execution_count": 124,
   "metadata": {},
   "outputs": [
    {
     "data": {
      "image/png": "[encoded data removed]",
      "text/plain": [
       "<Figure size 432x288 with 1 Axes>"
      ]
     },
     "metadata": {
      "needs_background": "light"
     },
     "output_type": "display_data"
    }
   ],
   "source": [
    "plt.hist(preds[Y_batch.detach().cpu().numpy() == 1], bins=100, alpha=0.4);\n",
    "plt.hist(preds[Y_batch.detach().cpu().numpy() == 0], bins=100, alpha=0.4);"
   ]
  },
  {
   "cell_type": "code",
   "execution_count": 125,
   "metadata": {},
   "outputs": [
    {
     "name": "stdout",
     "output_type": "stream",
     "text": [
      "-1460.0169677734375\n"
     ]
    }
   ],
   "source": [
    "model.eval()\n",
    "with torch.no_grad():\n",
    "    print(model.log_prob(X_test_tensor[:10000], Y_test_tensor[:10000]).mean().item())"
   ]
  },
  {
   "cell_type": "code",
   "execution_count": 126,
   "metadata": {},
   "outputs": [
    {
     "name": "stderr",
     "output_type": "stream",
     "text": [
      "/home/robdrynkin/anaconda3/lib/python3.7/site-packages/torch/distributions/distribution.py:134: UserWarning: sample_n will be deprecated. Use .sample((n,)) instead\n",
      "  warnings.warn('sample_n will be deprecated. Use .sample((n,)) instead', UserWarning)\n"
     ]
    },
    {
     "name": "stdout",
     "output_type": "stream",
     "text": [
      "-6.751377367414449\n"
     ]
    }
   ],
   "source": [
    "model.eval()\n",
    "clf.eval()\n",
    "with torch.no_grad():\n",
    "    n_samples = 1000\n",
    "    samples = model.sample_n(n_samples, Y_test_tensor[:n_samples])\n",
    "    calib_constant = logsumexp(clf(samples.view(-1, 1, 28, 28)).detach().cpu().numpy()) - np.log(n_samples)\n",
    "print(calib_constant)"
   ]
  },
  {
   "cell_type": "code",
   "execution_count": 128,
   "metadata": {},
   "outputs": [
    {
     "name": "stdout",
     "output_type": "stream",
     "text": [
      "-1439.3184468513355\n"
     ]
    }
   ],
   "source": [
    "model.eval()\n",
    "clf.eval()\n",
    "with torch.no_grad():\n",
    "    logits = clf(X_test_tensor[:10000].view(-1, 1, 28, 28))\n",
    "    print(\n",
    "        (model.log_prob(X_test_tensor[:10000], Y_test_tensor[:10000]) + logits).mean().item() - calib_constant\n",
    "    )"
   ]
  },
  {
   "cell_type": "code",
   "execution_count": null,
   "metadata": {},
   "outputs": [],
   "source": []
  },
  {
   "cell_type": "code",
   "execution_count": null,
   "metadata": {},
   "outputs": [],
   "source": []
  },
  {
   "cell_type": "code",
   "execution_count": null,
   "metadata": {},
   "outputs": [],
   "source": []
  },
  {
   "cell_type": "code",
   "execution_count": null,
   "metadata": {},
   "outputs": [],
   "source": []
  },
  {
   "cell_type": "code",
   "execution_count": null,
   "metadata": {},
   "outputs": [],
   "source": []
  },
  {
   "cell_type": "code",
   "execution_count": 24,
   "metadata": {},
   "outputs": [
    {
     "data": {
      "text/plain": [
       "array([[nan, nan, nan, ..., nan, nan, nan],\n",
       "       [nan, nan, nan, ..., nan, nan, nan],\n",
       "       [nan, nan, nan, ..., nan, nan, nan],\n",
       "       ...,\n",
       "       [nan, nan, nan, ..., nan, nan, nan],\n",
       "       [nan, nan, nan, ..., nan, nan, nan],\n",
       "       [nan, nan, nan, ..., nan, nan, nan]], dtype=float32)"
      ]
     },
     "execution_count": 24,
     "metadata": {},
     "output_type": "execute_result"
    }
   ],
   "source": [
    "samples"
   ]
  },
  {
   "cell_type": "code",
   "execution_count": null,
   "metadata": {
    "scrolled": true
   },
   "outputs": [],
   "source": [
    "trained_clfs = []\n",
    "\n",
    "for model in trained_models:\n",
    "    model.eval()\n",
    "    n_samples = X_train.shape[0]\n",
    "    with torch.no_grad():\n",
    "        samples = model.sample_n(n_samples).detach().cpu().numpy()\n",
    "    X_clf = np.vstack([X_train, samples])\n",
    "    Y_clf = np.hstack([np.ones(n_samples), np.zeros(n_samples)])\n",
    "\n",
    "    X_train_clf, X_test_clf, Y_train_clf, Y_test_clf = train_test_split(X_clf, Y_clf, test_size=0.2)\n",
    "    \n",
    "    trained_clfs.append(\n",
    "        CatBoostClassifier(\n",
    "            100, eval_metric='AUC',\n",
    "            metric_period=50,\n",
    "            use_best_model=False\n",
    "        ).fit(\n",
    "            X_train_clf, Y_train_clf,\n",
    "            eval_set=(X_test_clf, Y_test_clf)\n",
    "        )\n",
    "    )"
   ]
  },
  {
   "cell_type": "code",
   "execution_count": null,
   "metadata": {},
   "outputs": [],
   "source": [
    "def compute_metrics(model, clf, n_samples=1000):\n",
    "    ll = model.log_prob(X_train_tensor).mean().item()\n",
    "    \n",
    "    n_samples = X_train.shape[0]\n",
    "    with torch.no_grad():\n",
    "        samples = model.sample_n(n_samples).detach().cpu().numpy()\n",
    "    X_clf = np.vstack([X_train, samples])\n",
    "    Y_clf = np.hstack([np.ones(n_samples), np.zeros(n_samples)])\n",
    "    X_train_clf, X_test_clf, Y_train_clf, Y_test_clf = train_test_split(X_clf, Y_clf, test_size=0.2)\n",
    "    clf_roc_auc = roc_auc_score(Y_test_clf, expit(clf(X_test_clf)))\n",
    "    \n",
    "    samples = model.sample_n(n_samples).detach().cpu().numpy()\n",
    "    logits = clf(samples)\n",
    "    calib_constant = logsumexp(logits) - np.log(n_samples)\n",
    "\n",
    "    qs = {\n",
    "        'min':  np.min(logits),\n",
    "        '0.01': np.quantile(logits, 0.01),\n",
    "        '0.25': np.quantile(logits, 0.25),\n",
    "        '0.50': np.quantile(logits, 0.50),\n",
    "        '0.75': np.quantile(logits, 0.75),\n",
    "        '0.99': np.quantile(logits, 0.99),\n",
    "        'max':  np.max(logits),\n",
    "    }\n",
    "    \n",
    "    calib_model = CalibratedModel(clf, model, logit=True, n_samples_c=n_samples)\n",
    "    \n",
    "    calib_ll = neg_log_likelihood(calib_model, X_test_tensor) - calib_constant\n",
    "    n_samples_start = calib_model.model.samples_cnt\n",
    "    calib_model.sample_n(n_samples)\n",
    "    real_samples_frac = (calib_model.model.samples_cnt - n_samples_start) / n_samples\n",
    "    \n",
    "    return {\n",
    "        'model': model,\n",
    "        'clf': clf,\n",
    "        'calib_model': calib_model,\n",
    "        'll': ll,\n",
    "        'clf_roc_auc': clf_roc_auc,\n",
    "        'calib_constant': calib_constant,\n",
    "        'logits': logits,\n",
    "        'calib_ll': calib_ll,\n",
    "        'real_samples_frac': real_samples_frac,\n",
    "        'quantiles': qs\n",
    "    }"
   ]
  },
  {
   "cell_type": "code",
   "execution_count": null,
   "metadata": {
    "scrolled": true
   },
   "outputs": [],
   "source": [
    "metrics = {\n",
    "    f'{i}': compute_metrics(trained_models[i], wrap_cb(trained_clfs[i]), 10000)\n",
    "    for i in range(len(trained_models))\n",
    "}\n",
    "metrics.update({\n",
    "    f'{i}_clip_log_4': compute_metrics(trained_models[i], wrap_cb(trained_clfs[i], np.log(4)), 10000)\n",
    "    for i in range(len(trained_models))\n",
    "})"
   ]
  },
  {
   "cell_type": "code",
   "execution_count": null,
   "metadata": {},
   "outputs": [],
   "source": [
    "fig, axs = plt.subplots(4, 1, figsize=(18, 5 * 4))\n",
    "\n",
    "axs[0].plot([metrics[f'{i}']['ll'] for i in range(len(trained_models))], label='nf')\n",
    "axs[0].plot([metrics[f'{i}']['calib_ll'] for i in range(len(trained_models))], label='calib nf')\n",
    "axs[0].plot([metrics[f'{i}_clip_log_4']['calib_ll'] for i in range(len(trained_models))], label='calib nf cliped')\n",
    "axs[0].set_title('Test log likelihood')\n",
    "axs[0].legend()\n",
    "\n",
    "axs[1].plot([metrics[f'{i}']['clf_roc_auc'] for i in range(len(trained_models))], label='classic')\n",
    "axs[1].plot([metrics[f'{i}_clip_log_4']['clf_roc_auc'] for i in range(len(trained_models))], label='clip log 4')\n",
    "axs[1].legend()\n",
    "axs[1].set_title('Classifier AUC-ROC')\n",
    "\n",
    "for stat in ['min', '0.01', '0.99', 'max']:\n",
    "    axs[2].plot([metrics[f'{i}']['quantiles'][stat] for i in range(len(trained_models))], label=stat)\n",
    "axs[2].legend()\n",
    "\n",
    "for stat in ['max']:\n",
    "    axs[2].plot([metrics[f'{i}_clip_log_4']['quantiles'][stat] for i in range(len(trained_models))], label=stat + ' clip log 4')\n",
    "axs[2].legend()\n",
    "\n",
    "\n",
    "axs[3].plot([metrics[f'{i}']['real_samples_frac'] for i in range(len(trained_models))], label='calibrated nf')\n",
    "axs[3].plot([metrics[f'{i}_clip_log_4']['real_samples_frac'] for i in range(len(trained_models))], label='calibrated nf clip log 4')\n",
    "# axs[3].plot(real_samples_frac['log 4'])\n",
    "axs[3].set_title('Real samples frac')\n",
    "axs[3].legend()\n",
    "\n",
    "# axs[3].yaxis.set_ticks(np.arange(0, 26, 2))\n",
    "\n",
    "for i in range(4):\n",
    "    axs[i].grid()"
   ]
  },
  {
   "cell_type": "code",
   "execution_count": null,
   "metadata": {},
   "outputs": [],
   "source": []
  },
  {
   "cell_type": "code",
   "execution_count": null,
   "metadata": {},
   "outputs": [],
   "source": []
  },
  {
   "cell_type": "code",
   "execution_count": null,
   "metadata": {},
   "outputs": [],
   "source": []
  },
  {
   "cell_type": "code",
   "execution_count": null,
   "metadata": {},
   "outputs": [],
   "source": [
    "clf_roc_auc, calib_constant, logits, calib_ll, real_samples_frac = zip(*metrics)"
   ]
  },
  {
   "cell_type": "code",
   "execution_count": null,
   "metadata": {},
   "outputs": [],
   "source": [
    "plt.plot(clf_roc_auc)"
   ]
  },
  {
   "cell_type": "code",
   "execution_count": null,
   "metadata": {},
   "outputs": [],
   "source": [
    "cliped_clfs = [\n",
    "    {\n",
    "        'inf': wrap_cb(clf),\n",
    "#         'log 2': wrap_cb(clf, np.log(2)),\n",
    "        'log 4': wrap_cb(clf, np.log(4))\n",
    "    } for clf in trained_clfs\n",
    "]"
   ]
  },
  {
   "cell_type": "code",
   "execution_count": null,
   "metadata": {},
   "outputs": [],
   "source": [
    "qs = {\n",
    "    '1': [],\n",
    "    '25': [],\n",
    "    '50': [],\n",
    "    '75': [],\n",
    "    '99': []\n",
    "}\n",
    "for i, (model, clfs, ll, auc) in enumerate(zip(trained_models, cliped_clfs, metrics_ll_test, clfs_auc)):\n",
    "    all_logits = {}\n",
    "    for name, clf in clfs.items():\n",
    "        samples = model.sample_n(1000).detach().cpu().numpy()\n",
    "        logits = clf(samples)\n",
    "        calib_constant = logsumexp(logits) - np.log(len(logits))\n",
    "        logits -= calib_constant\n",
    "        all_logits[name] = logits\n",
    "        \n",
    "    qs['1'].append({\n",
    "        name: np.quantile(logits, 0.01)\n",
    "        for name, logits in all_logits.items()\n",
    "    })\n",
    "    qs['25'].append({\n",
    "        name: np.quantile(logits, 0.25)\n",
    "        for name, logits in all_logits.items()\n",
    "    })\n",
    "    qs['50'].append({\n",
    "        name: np.quantile(logits, 0.5)\n",
    "        for name, logits in all_logits.items()\n",
    "    })\n",
    "    qs['75'].append({\n",
    "        name: np.quantile(logits, 0.74)\n",
    "        for name, logits in all_logits.items()\n",
    "    })\n",
    "    qs['99'].append({\n",
    "        name: np.quantile(logits, 0.99)\n",
    "        for name, logits in all_logits.items()\n",
    "    })"
   ]
  },
  {
   "cell_type": "code",
   "execution_count": null,
   "metadata": {},
   "outputs": [],
   "source": [
    "calib_lls = {name: [] for name in cliped_clfs[0].keys()}\n",
    "real_samples_frac = {name: [] for name in cliped_clfs[0].keys()}\n",
    "\n",
    "for i, (model, clfs, ll, auc) in enumerate(zip(trained_models, cliped_clfs, metrics_ll_test, clfs_auc)):\n",
    "    for name, clf in clfs.items():\n",
    "        calib_model = CalibratedModel(clf, model, logit=True, n_samples_c=1000)\n",
    "\n",
    "        samples = model.sample_n(10000).detach().cpu().numpy()\n",
    "        logits = clf(samples)\n",
    "        calib_constant = logsumexp(logits) - np.log(len(logits))\n",
    "        calib_lls[name].append(\n",
    "            neg_log_likelihood(calib_model, X_test_tensor) - calib_constant\n",
    "        )\n",
    "        n_samples_start = calib_model.model.samples_cnt\n",
    "        calib_model.sample_n(10000)\n",
    "        real_samples_frac[name].append((calib_model.model.samples_cnt - n_samples_start) / 10000)"
   ]
  },
  {
   "cell_type": "code",
   "execution_count": null,
   "metadata": {
    "scrolled": false
   },
   "outputs": [],
   "source": [
    "fig, axs = plt.subplots(len(trained_models), 4, figsize=(18, 5 * len(trained_models)))\n",
    "\n",
    "X_val = np.transpose(np.dstack(np.meshgrid(\n",
    "    np.arange(np.min(X_test[:, 0]), np.max(X_test[:, 0]), 0.05),\n",
    "    np.arange(np.min(X_test[:, 1]), np.max(X_test[:, 1]), 0.05),\n",
    ")), axes=[1, 0, 2]).astype(np.float32)\n",
    "\n",
    "for i, (model, clfs, ll, auc, c_ll) in enumerate(zip(trained_models, cliped_clfs, metrics_ll_test, clfs_auc, calib_lls['inf'])):\n",
    "    \n",
    "    clf = clfs['log 4']\n",
    "    n_samples = X_train.shape[0]\n",
    "    samples = model.sample_n(n_samples).detach().cpu().numpy()\n",
    "    \n",
    "    axs[i, 0].scatter(samples[:, 0], samples[:, 1], alpha=0.5, s=10)\n",
    "    \n",
    "#     clf = wrap_cb(clf, np.log(2))\n",
    "    logits = clf(samples)\n",
    "#     logits = clf(samples)\n",
    "    calib_constant = logsumexp(logits) - np.log(len(logits))\n",
    "    axs[i, 3].hist(logits - calib_constant, bins=20)\n",
    "    max_logit = np.max(logits) - calib_constant\n",
    "    axs[i, 3].set_title(f'Calib constant = {round(calib_constant, 2)}, max = {round(max_logit, 2)}')\n",
    "    \n",
    "    logits = clf(X_val.reshape(-1, 2))\n",
    "#     logits = clf(X_val.reshape(-1, 2))\n",
    "    model.eval()\n",
    "    with torch.no_grad():\n",
    "        log_probs = model.log_prob(\n",
    "            torch.from_numpy(\n",
    "                X_val.reshape(-1, 2),\n",
    "            ).to(device)\n",
    "        ).detach().cpu().numpy()\n",
    "        probs = np.exp(log_probs).reshape(X_val.shape[0], X_val.shape[1])\n",
    "        probs_fixed = np.exp(log_probs + logits).reshape(X_val.shape[0], X_val.shape[1])\n",
    "\n",
    "    axs[i, 1].imshow(probs.T[::-1])\n",
    "    axs[i, 1].set_title(f'll = {round(ll, 2)}')\n",
    "    \n",
    "    axs[i, 2].imshow(probs_fixed.T[::-1])\n",
    "#     print(c_ll, type(c_ll), auc, type(auc))\n",
    "    axs[i, 2].set_title(f'll = {round(c_ll, 2)}, auc-roc={round(auc, 2)}')"
   ]
  },
  {
   "cell_type": "code",
   "execution_count": null,
   "metadata": {},
   "outputs": [],
   "source": [
    "fig, axs = plt.subplots(4, 1, figsize=(18, 5 * 4))\n",
    "\n",
    "axs[0].plot(metrics_ll_test, label='nf')\n",
    "axs[0].plot(calib_lls['log 4'], label='calibrated nf')\n",
    "axs[0].set_title('Test log likelihood')\n",
    "axs[0].legend()\n",
    "axs[1].plot(clfs_auc)\n",
    "axs[1].set_title('Classifier AUC-ROC')\n",
    "for k, v in qs.items():\n",
    "    axs[2].plot([x['log 4'] for x in v], label=str(float(k) / 100))\n",
    "    axs[2].legend()\n",
    "axs[2].set_title('Logits quantiles')\n",
    "axs[3].plot(real_samples_frac['log 4'])\n",
    "axs[3].set_title('Real samples frac')\n",
    "\n",
    "axs[3].yaxis.set_ticks(np.arange(0, 26, 2))\n",
    "\n",
    "for i in range(4):\n",
    "    axs[i].grid()"
   ]
  },
  {
   "cell_type": "code",
   "execution_count": null,
   "metadata": {},
   "outputs": [],
   "source": [
    "calibrated_model = CalibratedModel(clfs[-1], trained_models[-1], logit=True, n_samples_c=1000)"
   ]
  },
  {
   "cell_type": "code",
   "execution_count": null,
   "metadata": {},
   "outputs": [],
   "source": [
    "fig, axs = plt.subplots(1, 3, figsize=(18, 5))\n",
    "\n",
    "axs[0].scatter(X_train[:10000, 0], X_train[:10000, 1], alpha=0.3)\n",
    "axs[0].set_title('real data')\n",
    "\n",
    "samples = calibrated_model.model.sample_n(10000).detach().cpu().numpy()\n",
    "axs[1].scatter(samples[:, 0], samples[:, 1], alpha=0.3)\n",
    "axs[1].set_title('nf samples')\n",
    "\n",
    "samples = calibrated_model.sample_n(10000)\n",
    "axs[2].scatter(samples[:, 0], samples[:, 1], alpha=0.3)\n",
    "axs[2].set_title('calibrated nf samples')"
   ]
  },
  {
   "cell_type": "code",
   "execution_count": null,
   "metadata": {},
   "outputs": [],
   "source": []
  },
  {
   "cell_type": "code",
   "execution_count": null,
   "metadata": {},
   "outputs": [],
   "source": []
  },
  {
   "cell_type": "code",
   "execution_count": null,
   "metadata": {},
   "outputs": [],
   "source": []
  },
  {
   "cell_type": "code",
   "execution_count": null,
   "metadata": {},
   "outputs": [],
   "source": []
  },
  {
   "cell_type": "code",
   "execution_count": null,
   "metadata": {},
   "outputs": [],
   "source": []
  }
 ],
 "metadata": {
  "kernelspec": {
   "display_name": "Python 3",
   "language": "python",
   "name": "python3"
  },
  "language_info": {
   "codemirror_mode": {
    "name": "ipython",
    "version": 3
   },
   "file_extension": ".py",
   "mimetype": "text/x-python",
   "name": "python",
   "nbconvert_exporter": "python",
   "pygments_lexer": "ipython3",
   "version": "3.7.3"
  },
  "pycharm": {
   "stem_cell": {
    "cell_type": "raw",
    "metadata": {
     "collapsed": false
    },
    "source": []
   }
  }
 },
 "nbformat": 4,
 "nbformat_minor": 4
}
