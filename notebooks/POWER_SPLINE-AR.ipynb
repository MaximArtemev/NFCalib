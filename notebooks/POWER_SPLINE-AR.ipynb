{
 "cells": [
  {
   "cell_type": "code",
   "execution_count": 1,
   "metadata": {
    "pycharm": {
     "is_executing": true
    }
   },
   "outputs": [
    {
     "name": "stdout",
     "output_type": "stream",
     "text": [
      "env: CUDA_VISIBLE_DEVICES=0\n"
     ]
    }
   ],
   "source": [
    "import sys\n",
    "sys.path.append('..')\n",
    "%env CUDA_VISIBLE_DEVICES=0\n"
   ]
  },
  {
   "cell_type": "code",
   "execution_count": 2,
   "metadata": {},
   "outputs": [],
   "source": [
    "import numpy as np\n",
    "import matplotlib.pyplot as plt\n",
    "%matplotlib inline\n",
    "\n",
    "import torch\n",
    "import torch.nn as nn\n"
   ]
  },
  {
   "cell_type": "code",
   "execution_count": 3,
   "metadata": {},
   "outputs": [
    {
     "data": {
      "text/plain": [
       "device(type='cuda')"
      ]
     },
     "execution_count": 3,
     "metadata": {},
     "output_type": "execute_result"
    }
   ],
   "source": [
    "import os\n",
    "\n",
    "os.environ['KMP_DUPLICATE_LIB_OK'] = 'True'\n",
    "device = torch.device(\"cuda\" if torch.cuda.is_available() else \"cpu\")\n",
    "\n",
    "device"
   ]
  },
  {
   "cell_type": "code",
   "execution_count": 4,
   "metadata": {
    "pycharm": {
     "is_executing": false,
     "metadata": false,
     "name": "#%%\n"
    }
   },
   "outputs": [],
   "source": [
    "from utils import data_utils\n",
    "\n",
    "data = data_utils.POWER()\n",
    "\n",
    "dim = data.n_dims\n",
    "num_layers = 3\n"
   ]
  },
  {
   "cell_type": "code",
   "execution_count": 5,
   "metadata": {
    "pycharm": {
     "is_executing": false,
     "metadata": false,
     "name": "#%%\n"
    }
   },
   "outputs": [],
   "source": [
    "X_train_tensor = torch.from_numpy(data.trn.x)\n",
    "X_test_tensor = torch.from_numpy(data.tst.x)"
   ]
  },
  {
   "cell_type": "code",
   "execution_count": 6,
   "metadata": {},
   "outputs": [],
   "source": [
    "# def init_weights(m):\n",
    "#     if 'Linear' in str(type(m)):\n",
    "#         torch.nn.init.xavier_uniform_(m.weight)\n",
    "#         m.bias.data.fill_(0.01)\n"
   ]
  },
  {
   "cell_type": "code",
   "execution_count": 7,
   "metadata": {},
   "outputs": [],
   "source": [
    "from torch.distributions import MultivariateNormal\n",
    "\n",
    "prior = MultivariateNormal(torch.zeros(data.n_dims).to(device),\n",
    "                           torch.eye(data.n_dims).to(device))\n"
   ]
  },
  {
   "cell_type": "code",
   "execution_count": 8,
   "metadata": {},
   "outputs": [],
   "source": [
    "from src.mrartemev_nflib.flows import NormalizingFlowModel, InvertiblePermutation\n",
    "from src.mrartemev_nflib.flows import ActNorm, NSF_AR, Invertible1x1Conv\n",
    "from src.mrartemev_nflib.nn import MLP\n",
    "\n",
    "flows = []\n",
    "for _ in range(num_layers):\n",
    "    flows.append(ActNorm(dim=data.n_dims))\n",
    "    flows.append(Invertible1x1Conv(dim=data.n_dims))\n",
    "    flows.append(NSF_AR(dim=data.n_dims, K=8, B=3, hidden_features=16, base_network=MLP))\n",
    "model = NormalizingFlowModel(prior, flows).to(device)\n",
    "\n",
    "optimizer = torch.optim.Adam(model.parameters(), lr=0.0001)"
   ]
  },
  {
   "cell_type": "code",
   "execution_count": 9,
   "metadata": {},
   "outputs": [],
   "source": [
    "from torch.utils.data import Dataset, DataLoader, TensorDataset\n",
    "\n",
    "dloader = DataLoader(TensorDataset(X_train_tensor), batch_size=2**14,\n",
    "                     shuffle=True, drop_last=True, num_workers=4)\n",
    "test_dloader = DataLoader(TensorDataset(X_test_tensor), batch_size=2**14,\n",
    "                          shuffle=True, drop_last=True, num_workers=4)\n"
   ]
  },
  {
   "cell_type": "code",
   "execution_count": 10,
   "metadata": {},
   "outputs": [],
   "source": [
    "from IPython.display import clear_output\n",
    "from tqdm import tqdm\n",
    "\n",
    "\n",
    "epoches = 10000\n",
    "plot_freq = 20\n",
    "\n",
    "epoch_losses = []\n",
    "train_losses = []"
   ]
  },
  {
   "cell_type": "code",
   "execution_count": null,
   "metadata": {
    "scrolled": true
   },
   "outputs": [
    {
     "name": "stderr",
     "output_type": "stream",
     "text": [
      "  0%|          | 10/10000 [08:01<132:55:09, 47.90s/it]"
     ]
    }
   ],
   "source": [
    "for epoch in tqdm(range(epoches), position=0):\n",
    "    for ind, batch in enumerate(dloader):\n",
    "        model.train()\n",
    "        \n",
    "        # fit\n",
    "        optimizer.zero_grad()\n",
    "        logp_x = model.log_prob(batch[0].to(device))\n",
    "        loss = -torch.mean(logp_x)\n",
    "        loss.backward()\n",
    "        \n",
    "        # clip\n",
    "        torch.nn.utils.clip_grad_norm_(model.parameters(), 1)\n",
    "                \n",
    "        # step\n",
    "        optimizer.step()\n",
    "\n",
    "        # log\n",
    "        train_losses.append(-loss.item())\n",
    "        \n",
    "    with torch.no_grad():\n",
    "        model.eval()\n",
    "        logp_x = np.mean([torch.mean(model.log_prob(batch[0].to(device))).item() for batch in test_dloader])\n",
    "        epoch_losses.append([np.mean(train_losses), logp_x])\n",
    "    \n",
    "    if epoch % plot_freq == 0 and epoch != 0:\n",
    "        clear_output(True)\n",
    "        plt.figure(figsize=(15, 5))\n",
    "        val_losses = np.array(epoch_losses)\n",
    "        plt.plot(val_losses[:, 0], label='train_mean_loss')\n",
    "        plt.plot(val_losses[:, 1], label='val_mean_loss')\n",
    "        plt.ylim(-10, 10)\n",
    "        plt.grid()\n",
    "        plt.legend()\n",
    "        plt.show()\n",
    "        "
   ]
  },
  {
   "cell_type": "code",
   "execution_count": null,
   "metadata": {},
   "outputs": [],
   "source": [
    "os.makedirs('../models/POWER/SPLINE-AR_3/', exist_ok=True)\n",
    "\n",
    "torch.save(model.state_dict(), '../models/POWER/SPLINE-AR_3/model.state_dict')\n",
    "torch.save(optimizer.state_dict(), '../models/POWER/SPLINE-AR_3/optimizer.state_dict')"
   ]
  },
  {
   "cell_type": "code",
   "execution_count": null,
   "metadata": {},
   "outputs": [],
   "source": [
    "\n",
    "model.load_state_dict(torch.load('../models/POWER/SPLINE-AR_3/model.state_dict'))"
   ]
  },
  {
   "cell_type": "markdown",
   "metadata": {},
   "source": [
    "Model eval + move model to cpu"
   ]
  },
  {
   "cell_type": "code",
   "execution_count": null,
   "metadata": {},
   "outputs": [],
   "source": [
    "from catboost import CatBoostClassifier\n",
    "from sklearn.metrics import roc_auc_score\n",
    "\n",
    "from src.nf import CalibratedModel, neg_log_likelihood\n",
    "from src.nf.classifiers import train_catboost_clf\n",
    "from scipy.special import logsumexp\n"
   ]
  },
  {
   "cell_type": "code",
   "execution_count": null,
   "metadata": {},
   "outputs": [],
   "source": [
    "model.eval()\n",
    "model.sample_n = lambda x: model.sample(x)\n",
    "\n",
    "model.cpu()\n",
    "model.prior = MultivariateNormal(torch.zeros(data.n_dims),\n",
    "                                 torch.eye(data.n_dims))\n",
    "\n",
    "\n",
    "print('Model train LL ', torch.mean(model.log_prob(X_train_tensor)).item())\n",
    "print('Model test LL ', torch.mean(model.log_prob(X_test_tensor)).item())\n"
   ]
  },
  {
   "cell_type": "code",
   "execution_count": null,
   "metadata": {},
   "outputs": [],
   "source": [
    "n = 100000\n",
    "\n",
    "clf_ds_train = np.row_stack([\n",
    "    np.column_stack([X_train_tensor.detach().numpy()[:n], np.ones(n).reshape(-1, 1)]),\n",
    "    np.column_stack([model.sample(n).detach().numpy()[:n], np.zeros(n).reshape(-1, 1)])\n",
    "]).astype(np.float32)\n",
    "\n",
    "clf_ds_test = np.row_stack([\n",
    "    np.column_stack([X_test_tensor.detach().numpy()[:n], np.ones(n).reshape(-1, 1)]),\n",
    "    np.column_stack([model.sample(n).detach().numpy()[:n], np.zeros(n).reshape(-1, 1)])\n",
    "]).astype(np.float32)"
   ]
  },
  {
   "cell_type": "code",
   "execution_count": null,
   "metadata": {},
   "outputs": [],
   "source": [
    "clf = CatBoostClassifier(\n",
    "    1000, eval_metric='AUC',\n",
    "    metric_period=200,\n",
    ").fit(\n",
    "    clf_ds_train[:, :-1], clf_ds_train[:, -1],\n",
    "    eval_set=(clf_ds_test[:, :-1], clf_ds_test[:, -1])\n",
    ")"
   ]
  },
  {
   "cell_type": "code",
   "execution_count": null,
   "metadata": {
    "pycharm": {
     "is_executing": false,
     "metadata": false,
     "name": "#%%\n"
    }
   },
   "outputs": [],
   "source": [
    "calibrated_model = CalibratedModel(clf, model, logit=True)\n",
    "\n",
    "samples = model.sample(10000).detach().cpu().numpy()\n",
    "clf_preds = clf.predict(samples, prediction_type='RawFormulaVal')\n",
    "calibration_constant = logsumexp(clf_preds) - np.log(len(clf_preds))\n",
    "\n",
    "-neg_log_likelihood(model, X_test_tensor), \\\n",
    "-neg_log_likelihood(calibrated_model, X_test_tensor) - calibration_constant,"
   ]
  },
  {
   "cell_type": "code",
   "execution_count": null,
   "metadata": {},
   "outputs": [],
   "source": [
    "clf2000 = CatBoostClassifier(\n",
    "    2000, eval_metric='AUC',\n",
    "    metric_period=500,\n",
    ").fit(\n",
    "    clf_ds_train[:, :-1], clf_ds_train[:, -1],\n",
    "    eval_set=(clf_ds_test[:, :-1], clf_ds_test[:, -1])\n",
    ")\n",
    "\n",
    "samples = model.sample(10000).detach().cpu().numpy()\n",
    "clf_preds = clf2000.predict(samples, prediction_type='RawFormulaVal')\n",
    "calibration_constant = logsumexp(clf_preds) - np.log(len(clf_preds))\n",
    "\n",
    "calibrated_model2000 = CalibratedModel(clf2000, model, logit=True)\n",
    "\n",
    "-neg_log_likelihood(model, X_test_tensor), \\\n",
    "-neg_log_likelihood(calibrated_model2000, X_test_tensor)"
   ]
  },
  {
   "cell_type": "code",
   "execution_count": null,
   "metadata": {},
   "outputs": [],
   "source": []
  },
  {
   "cell_type": "code",
   "execution_count": null,
   "metadata": {},
   "outputs": [],
   "source": []
  },
  {
   "cell_type": "code",
   "execution_count": null,
   "metadata": {},
   "outputs": [],
   "source": []
  }
 ],
 "metadata": {
  "kernelspec": {
   "display_name": "Python 3",
   "language": "python",
   "name": "python3"
  },
  "language_info": {
   "codemirror_mode": {
    "name": "ipython",
    "version": 3
   },
   "file_extension": ".py",
   "mimetype": "text/x-python",
   "name": "python",
   "nbconvert_exporter": "python",
   "pygments_lexer": "ipython3",
   "version": "3.6.9"
  },
  "pycharm": {
   "stem_cell": {
    "cell_type": "raw",
    "metadata": {
     "collapsed": false
    },
    "source": []
   }
  }
 },
 "nbformat": 4,
 "nbformat_minor": 1
}
