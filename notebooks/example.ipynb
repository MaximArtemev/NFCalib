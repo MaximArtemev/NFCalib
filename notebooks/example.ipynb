{
 "cells": [
  {
   "cell_type": "code",
   "execution_count": 1,
   "metadata": {
    "collapsed": true,
    "pycharm": {
     "is_executing": false
    }
   },
   "outputs": [],
   "source": [
    "from src.nf import NormalizingFlowModel, MAF, CalibratedModel, neg_log_likelihood\n",
    "from src.nf.classifiers import train_catboost_clf\n",
    "from utils import data_utils\n",
    "\n",
    "import numpy as np\n",
    "\n",
    "import torch\n",
    "import torch.nn as nn\n",
    "import torch.optim as optim\n",
    "import torch.nn.functional as F\n",
    "from torch.distributions import MultivariateNormal\n",
    "\n",
    "from copy import deepcopy\n",
    "\n",
    "import matplotlib.pyplot as plt\n",
    "from IPython.display import clear_output\n",
    "\n",
    "%matplotlib inline"
   ]
  },
  {
   "cell_type": "code",
   "execution_count": 2,
   "outputs": [],
   "source": [
    "import os\n",
    "\n",
    "os.environ['KMP_DUPLICATE_LIB_OK']='True'"
   ],
   "metadata": {
    "collapsed": false,
    "pycharm": {
     "name": "#%%\n",
     "is_executing": false
    }
   }
  },
  {
   "cell_type": "code",
   "execution_count": 3,
   "outputs": [],
   "source": [
    "device = torch.device(\"cuda\" if torch.cuda.is_available() else \"cpu\")"
   ],
   "metadata": {
    "pycharm": {
     "metadata": false,
     "name": "#%%\n",
     "is_executing": false
    }
   }
  },
  {
   "cell_type": "code",
   "execution_count": 4,
   "outputs": [],
   "source": [
    "data = data_utils.GAS()"
   ],
   "metadata": {
    "pycharm": {
     "metadata": false,
     "name": "#%%\n",
     "is_executing": false
    }
   }
  },
  {
   "cell_type": "code",
   "execution_count": 5,
   "outputs": [],
   "source": [
    "dim = data.n_dims"
   ],
   "metadata": {
    "collapsed": false,
    "pycharm": {
     "name": "#%%\n",
     "is_executing": false
    }
   }
  },
  {
   "cell_type": "code",
   "execution_count": 6,
   "outputs": [],
   "source": [
    "X_train_tensor = torch.from_numpy(data.trn.x[:1000]).to(device)\n",
    "X_test_tensor = torch.from_numpy(data.tst.x[:1000]).to(device)"
   ],
   "metadata": {
    "pycharm": {
     "metadata": false,
     "name": "#%%\n",
     "is_executing": false
    }
   }
  },
  {
   "cell_type": "code",
   "execution_count": 7,
   "outputs": [],
   "source": [
    "prior = MultivariateNormal(torch.zeros(dim).to(device), torch.eye(dim).to(device))\n",
    "model = NormalizingFlowModel(dim, prior, [MAF(dim), MAF(dim)]).to(device)\n",
    "optimizer = optim.Adam(model.parameters(), lr=0.005)"
   ],
   "metadata": {
    "pycharm": {
     "metadata": false,
     "name": "#%%\n",
     "is_executing": false
    }
   }
  },
  {
   "cell_type": "code",
   "execution_count": 8,
   "outputs": [],
   "source": [
    "epoches = 100\n",
    "metrics_train, metrics_test = [], []"
   ],
   "metadata": {
    "pycharm": {
     "metadata": false,
     "name": "#%%\n",
     "is_executing": false
    }
   }
  },
  {
   "cell_type": "code",
   "execution_count": 9,
   "outputs": [
    {
     "data": {
      "text/plain": "<Figure size 1080x432 with 2 Axes>",
      "image/png": "[encoded data removed]"
     },
     "metadata": {
      "needs_background": "light"
     },
     "output_type": "display_data"
    }
   ],
   "source": [
    "for epoch in range(len(metrics_train), epoches):\n",
    "    loss = model.ll_train_step(optimizer, X_train_tensor)\n",
    "\n",
    "    if epoch % 10 == 0:\n",
    "        metrics_train.append(neg_log_likelihood(model, X_train_tensor))\n",
    "        metrics_test.append(neg_log_likelihood(model, X_test_tensor))\n",
    "        \n",
    "        clear_output(False)\n",
    "        fig, axs = plt.subplots(1, 2, figsize=(15, 6))\n",
    "\n",
    "        axs[0].plot(np.arange(len(metrics_train)), metrics_train)\n",
    "        axs[0].set_title('Train negative ll')\n",
    "        axs[1].plot(np.arange(len(metrics_test)), metrics_test)\n",
    "        axs[1].set_title('Test negative ll')\n",
    "\n",
    "    plt.show()"
   ],
   "metadata": {
    "pycharm": {
     "metadata": false,
     "name": "#%%\n",
     "is_executing": false
    }
   }
  },
  {
   "cell_type": "code",
   "execution_count": 12,
   "outputs": [
    {
     "name": "stdout",
     "text": [
      "Learning rate set to 0.114413\n0:\tlearn: 0.6663966\ttotal: 2.45ms\tremaining: 243ms\n1:\tlearn: 0.6452350\ttotal: 4.95ms\tremaining: 243ms\n2:\tlearn: 0.6283769\ttotal: 7.28ms\tremaining: 235ms\n3:\tlearn: 0.6146821\ttotal: 9.8ms\tremaining: 235ms\n4:\tlearn: 0.6016250\ttotal: 11.7ms\tremaining: 221ms\n5:\tlearn: 0.5898008\ttotal: 14ms\tremaining: 219ms\n6:\tlearn: 0.5812764\ttotal: 16.4ms\tremaining: 218ms\n7:\tlearn: 0.5735698\ttotal: 18.6ms\tremaining: 214ms\n8:\tlearn: 0.5672082\ttotal: 20.8ms\tremaining: 210ms\n9:\tlearn: 0.5608619\ttotal: 22.8ms\tremaining: 205ms\n10:\tlearn: 0.5531691\ttotal: 24.8ms\tremaining: 201ms\n11:\tlearn: 0.5470340\ttotal: 26.9ms\tremaining: 198ms\n12:\tlearn: 0.5415507\ttotal: 28.5ms\tremaining: 190ms\n13:\tlearn: 0.5348541\ttotal: 30.2ms\tremaining: 185ms\n14:\tlearn: 0.5305503\ttotal: 31.7ms\tremaining: 179ms\n15:\tlearn: 0.5256445\ttotal: 33.2ms\tremaining: 174ms\n16:\tlearn: 0.5208166\ttotal: 35.6ms\tremaining: 174ms\n17:\tlearn: 0.5168482\ttotal: 37.9ms\tremaining: 173ms\n18:\tlearn: 0.5136209\ttotal: 40.4ms\tremaining: 172ms\n19:\tlearn: 0.5089400\ttotal: 42ms\tremaining: 168ms\n20:\tlearn: 0.5043136\ttotal: 43.6ms\tremaining: 164ms\n21:\tlearn: 0.5004128\ttotal: 45.3ms\tremaining: 160ms\n22:\tlearn: 0.4980301\ttotal: 46.8ms\tremaining: 157ms\n23:\tlearn: 0.4947718\ttotal: 48.4ms\tremaining: 153ms\n24:\tlearn: 0.4923282\ttotal: 50ms\tremaining: 150ms\n25:\tlearn: 0.4886378\ttotal: 51.5ms\tremaining: 147ms\n26:\tlearn: 0.4859589\ttotal: 53.3ms\tremaining: 144ms\n27:\tlearn: 0.4840958\ttotal: 54.8ms\tremaining: 141ms\n28:\tlearn: 0.4818593\ttotal: 56.9ms\tremaining: 139ms\n29:\tlearn: 0.4786656\ttotal: 58.6ms\tremaining: 137ms\n30:\tlearn: 0.4766940\ttotal: 60.1ms\tremaining: 134ms\n31:\tlearn: 0.4743304\ttotal: 61.5ms\tremaining: 131ms\n32:\tlearn: 0.4699591\ttotal: 63.2ms\tremaining: 128ms\n33:\tlearn: 0.4675228\ttotal: 64.7ms\tremaining: 126ms\n34:\tlearn: 0.4636532\ttotal: 66.4ms\tremaining: 123ms\n35:\tlearn: 0.4618637\ttotal: 68ms\tremaining: 121ms\n36:\tlearn: 0.4590917\ttotal: 69.6ms\tremaining: 119ms\n37:\tlearn: 0.4572553\ttotal: 71.2ms\tremaining: 116ms\n38:\tlearn: 0.4544106\ttotal: 73.5ms\tremaining: 115ms\n39:\tlearn: 0.4528252\ttotal: 75.8ms\tremaining: 114ms\n40:\tlearn: 0.4515018\ttotal: 78.3ms\tremaining: 113ms\n41:\tlearn: 0.4505157\ttotal: 80.6ms\tremaining: 111ms\n42:\tlearn: 0.4477763\ttotal: 83.1ms\tremaining: 110ms\n43:\tlearn: 0.4453241\ttotal: 85.3ms\tremaining: 109ms\n44:\tlearn: 0.4434940\ttotal: 87.8ms\tremaining: 107ms\n45:\tlearn: 0.4420962\ttotal: 90ms\tremaining: 106ms\n46:\tlearn: 0.4399498\ttotal: 92.2ms\tremaining: 104ms\n47:\tlearn: 0.4371308\ttotal: 94.2ms\tremaining: 102ms\n48:\tlearn: 0.4362811\ttotal: 96.3ms\tremaining: 100ms\n49:\tlearn: 0.4343876\ttotal: 98.4ms\tremaining: 98.4ms\n50:\tlearn: 0.4328485\ttotal: 100ms\tremaining: 96.5ms\n51:\tlearn: 0.4312813\ttotal: 103ms\tremaining: 95.2ms\n52:\tlearn: 0.4298474\ttotal: 106ms\tremaining: 93.7ms\n53:\tlearn: 0.4282629\ttotal: 108ms\tremaining: 91.9ms\n54:\tlearn: 0.4255321\ttotal: 110ms\tremaining: 90.2ms\n55:\tlearn: 0.4244688\ttotal: 112ms\tremaining: 88.4ms\n56:\tlearn: 0.4232645\ttotal: 114ms\tremaining: 86ms\n57:\tlearn: 0.4215759\ttotal: 116ms\tremaining: 83.7ms\n58:\tlearn: 0.4199568\ttotal: 117ms\tremaining: 81.3ms\n59:\tlearn: 0.4187285\ttotal: 119ms\tremaining: 79.1ms\n60:\tlearn: 0.4173544\ttotal: 120ms\tremaining: 76.7ms\n61:\tlearn: 0.4155425\ttotal: 121ms\tremaining: 74.5ms\n62:\tlearn: 0.4143441\ttotal: 123ms\tremaining: 72.2ms\n63:\tlearn: 0.4131706\ttotal: 124ms\tremaining: 70ms\n64:\tlearn: 0.4123336\ttotal: 126ms\tremaining: 67.8ms\n65:\tlearn: 0.4111689\ttotal: 127ms\tremaining: 65.6ms\n66:\tlearn: 0.4098212\ttotal: 129ms\tremaining: 63.4ms\n67:\tlearn: 0.4088756\ttotal: 130ms\tremaining: 61.3ms\n68:\tlearn: 0.4075464\ttotal: 132ms\tremaining: 59.3ms\n69:\tlearn: 0.4059684\ttotal: 134ms\tremaining: 57.2ms\n70:\tlearn: 0.4040959\ttotal: 135ms\tremaining: 55.1ms\n71:\tlearn: 0.4030495\ttotal: 136ms\tremaining: 53.1ms\n72:\tlearn: 0.4019309\ttotal: 139ms\tremaining: 51.2ms\n73:\tlearn: 0.4005105\ttotal: 141ms\tremaining: 49.4ms\n74:\tlearn: 0.3978080\ttotal: 143ms\tremaining: 47.8ms\n75:\tlearn: 0.3961498\ttotal: 147ms\tremaining: 46.3ms\n76:\tlearn: 0.3947885\ttotal: 149ms\tremaining: 44.5ms\n77:\tlearn: 0.3942088\ttotal: 150ms\tremaining: 42.4ms\n78:\tlearn: 0.3928251\ttotal: 152ms\tremaining: 40.4ms\n79:\tlearn: 0.3918171\ttotal: 154ms\tremaining: 38.4ms\n80:\tlearn: 0.3899331\ttotal: 155ms\tremaining: 36.4ms\n81:\tlearn: 0.3894407\ttotal: 157ms\tremaining: 34.5ms\n82:\tlearn: 0.3870181\ttotal: 158ms\tremaining: 32.4ms\n83:\tlearn: 0.3849488\ttotal: 160ms\tremaining: 30.5ms\n84:\tlearn: 0.3831573\ttotal: 161ms\tremaining: 28.5ms\n85:\tlearn: 0.3817909\ttotal: 163ms\tremaining: 26.5ms\n86:\tlearn: 0.3808188\ttotal: 166ms\tremaining: 24.8ms\n87:\tlearn: 0.3800553\ttotal: 167ms\tremaining: 22.8ms\n88:\tlearn: 0.3786047\ttotal: 168ms\tremaining: 20.8ms\n89:\tlearn: 0.3773556\ttotal: 169ms\tremaining: 18.8ms\n90:\tlearn: 0.3756161\ttotal: 171ms\tremaining: 16.9ms\n91:\tlearn: 0.3733513\ttotal: 173ms\tremaining: 15ms\n92:\tlearn: 0.3716020\ttotal: 175ms\tremaining: 13.2ms\n93:\tlearn: 0.3702303\ttotal: 177ms\tremaining: 11.3ms\n94:\tlearn: 0.3688917\ttotal: 179ms\tremaining: 9.4ms\n95:\tlearn: 0.3676545\ttotal: 180ms\tremaining: 7.51ms\n96:\tlearn: 0.3661348\ttotal: 181ms\tremaining: 5.61ms\n",
      "97:\tlearn: 0.3648972\ttotal: 182ms\tremaining: 3.72ms\n98:\tlearn: 0.3634071\ttotal: 185ms\tremaining: 1.87ms\n99:\tlearn: 0.3618477\ttotal: 187ms\tremaining: 0us\n"
     ],
     "output_type": "stream"
    }
   ],
   "source": [
    "clf_ds, clf = train_catboost_clf(X_train_tensor, model, {'iterations': 100})"
   ],
   "metadata": {
    "collapsed": false,
    "pycharm": {
     "name": "#%%\n",
     "is_executing": false
    }
   }
  },
  {
   "cell_type": "code",
   "execution_count": 13,
   "outputs": [],
   "source": [
    "calibrated_model = CalibratedModel(clf, model, logit=True)"
   ],
   "metadata": {
    "pycharm": {
     "metadata": false,
     "name": "#%%\n",
     "is_executing": false
    }
   }
  },
  {
   "cell_type": "code",
   "execution_count": 14,
   "outputs": [],
   "source": [
    "samples = model.sample_n(1000)\n",
    "new_samples = calibrated_model.sample_n(1000)"
   ],
   "metadata": {
    "pycharm": {
     "metadata": false,
     "name": "#%%\n",
     "is_executing": false
    }
   }
  },
  {
   "cell_type": "code",
   "execution_count": 15,
   "outputs": [
    {
     "data": {
      "text/plain": "(1.4879695177078247, 2.569898570987151)"
     },
     "metadata": {},
     "output_type": "execute_result",
     "execution_count": 15
    }
   ],
   "source": [
    "-neg_log_likelihood(model, samples), \\\n",
    "-neg_log_likelihood(calibrated_model, new_samples)\n"
   ],
   "metadata": {
    "collapsed": false,
    "pycharm": {
     "name": "#%%\n",
     "is_executing": false
    }
   }
  }
 ],
 "metadata": {
  "language_info": {
   "codemirror_mode": {
    "name": "ipython",
    "version": 2
   },
   "file_extension": ".py",
   "mimetype": "text/x-python",
   "name": "python",
   "nbconvert_exporter": "python",
   "pygments_lexer": "ipython2",
   "version": "2.7.6"
  },
  "kernelspec": {
   "name": "python3",
   "language": "python",
   "display_name": "Python 3"
  },
  "pycharm": {
   "stem_cell": {
    "cell_type": "raw",
    "source": [],
    "metadata": {
     "collapsed": false
    }
   }
  }
 },
 "nbformat": 4,
 "nbformat_minor": 0
}