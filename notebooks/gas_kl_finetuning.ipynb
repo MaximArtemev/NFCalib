{
 "cells": [
  {
   "cell_type": "code",
   "execution_count": 1,
   "metadata": {
    "pycharm": {
     "is_executing": false
    }
   },
   "outputs": [
    {
     "name": "stdout",
     "output_type": "stream",
     "text": [
      "env: CUDA_VISIBLE_DEVICES=3\n"
     ]
    }
   ],
   "source": [
    "import sys\n",
    "sys.path.append('..')\n",
    "%env CUDA_VISIBLE_DEVICES=3"
   ]
  },
  {
   "cell_type": "code",
   "execution_count": 2,
   "metadata": {},
   "outputs": [],
   "source": [
    "from src.nf import NormalizingFlowModel, MAF, CalibratedModel, neg_log_likelihood\n",
    "from src.nf.classifiers import train_catboost_clf, make_clf_dataset\n",
    "from utils import data_utils\n",
    "\n",
    "import numpy as np\n",
    "import torch\n",
    "import torch.nn as nn\n",
    "import torch.optim as optim\n",
    "import torch.nn.functional as F\n",
    "from torch.distributions import MultivariateNormal\n",
    "from catboost import CatBoostClassifier\n",
    "from sklearn.metrics import roc_auc_score\n",
    "from sklearn.calibration import calibration_curve, CalibratedClassifierCV\n",
    "from sklearn.linear_model import LogisticRegression\n",
    "from scipy.special import logsumexp\n",
    "\n",
    "from copy import deepcopy\n",
    "\n",
    "import matplotlib.pyplot as plt\n",
    "from IPython.display import clear_output\n",
    "\n",
    "%matplotlib inline"
   ]
  },
  {
   "cell_type": "code",
   "execution_count": 3,
   "metadata": {
    "pycharm": {
     "is_executing": false,
     "name": "#%%\n"
    }
   },
   "outputs": [],
   "source": [
    "import os\n",
    "\n",
    "os.environ['KMP_DUPLICATE_LIB_OK'] = 'True'"
   ]
  },
  {
   "cell_type": "code",
   "execution_count": 4,
   "metadata": {
    "pycharm": {
     "is_executing": false,
     "metadata": false,
     "name": "#%%\n"
    }
   },
   "outputs": [
    {
     "data": {
      "text/plain": [
       "device(type='cuda')"
      ]
     },
     "execution_count": 4,
     "metadata": {},
     "output_type": "execute_result"
    }
   ],
   "source": [
    "device = torch.device(\"cuda\" if torch.cuda.is_available() else \"cpu\")\n",
    "device"
   ]
  },
  {
   "cell_type": "code",
   "execution_count": 5,
   "metadata": {},
   "outputs": [
    {
     "name": "stdout",
     "output_type": "stream",
     "text": [
      "Fri Apr 17 20:25:14 2020       \n",
      "+-----------------------------------------------------------------------------+\n",
      "| NVIDIA-SMI 418.87.01    Driver Version: 418.87.01    CUDA Version: 10.1     |\n",
      "|-------------------------------+----------------------+----------------------+\n",
      "| GPU  Name        Persistence-M| Bus-Id        Disp.A | Volatile Uncorr. ECC |\n",
      "| Fan  Temp  Perf  Pwr:Usage/Cap|         Memory-Usage | GPU-Util  Compute M. |\n",
      "|===============================+======================+======================|\n",
      "|   0  Tesla K80           On   | 0000666E:00:00.0 Off |                    0 |\n",
      "| N/A   52C    P0    71W / 149W |  11189MiB / 11441MiB |      0%      Default |\n",
      "+-------------------------------+----------------------+----------------------+\n",
      "|   1  Tesla K80           On   | 0000A3CE:00:00.0 Off |                    0 |\n",
      "| N/A   69C    P0    95W / 149W |   7868MiB / 11441MiB |     44%      Default |\n",
      "+-------------------------------+----------------------+----------------------+\n",
      "|   2  Tesla K80           On   | 0000CACA:00:00.0 Off |                    0 |\n",
      "| N/A   68C    P0    60W / 149W |   3869MiB / 11441MiB |      0%      Default |\n",
      "+-------------------------------+----------------------+----------------------+\n",
      "|   3  Tesla K80           On   | 0000EFC8:00:00.0 Off |                    0 |\n",
      "| N/A   55C    P0    85W / 149W |     75MiB / 11441MiB |      0%      Default |\n",
      "+-------------------------------+----------------------+----------------------+\n",
      "                                                                               \n",
      "+-----------------------------------------------------------------------------+\n",
      "| Processes:                                                       GPU Memory |\n",
      "|  GPU       PID   Type   Process name                             Usage      |\n",
      "|=============================================================================|\n",
      "+-----------------------------------------------------------------------------+\n"
     ]
    }
   ],
   "source": [
    "! nvidia-smi"
   ]
  },
  {
   "cell_type": "code",
   "execution_count": 6,
   "metadata": {},
   "outputs": [],
   "source": [
    "data = data_utils.GAS()\n",
    "dim = data.n_dims\n",
    "X_train_tensor = torch.from_numpy(data.trn.x).to(device)\n",
    "X_test_tensor = torch.from_numpy(data.tst.x).to(device)"
   ]
  },
  {
   "cell_type": "code",
   "execution_count": 7,
   "metadata": {
    "pycharm": {
     "is_executing": false,
     "metadata": false,
     "name": "#%%\n"
    }
   },
   "outputs": [],
   "source": [
    "prior = MultivariateNormal(torch.zeros(dim).to(device), torch.eye(dim).to(device))\n",
    "model = NormalizingFlowModel(dim, prior, [MAF(dim, 32), MAF(dim, 32), MAF(dim, 32), MAF(dim, 32), MAF(dim, 32)]).to(device)"
   ]
  },
  {
   "cell_type": "code",
   "execution_count": 8,
   "metadata": {},
   "outputs": [
    {
     "data": {
      "text/plain": [
       "<All keys matched successfully>"
      ]
     },
     "execution_count": 8,
     "metadata": {},
     "output_type": "execute_result"
    }
   ],
   "source": [
    "model.load_state_dict(torch.load('./GAS/modelBig50k'))"
   ]
  },
  {
   "cell_type": "code",
   "execution_count": 9,
   "metadata": {},
   "outputs": [
    {
     "data": {
      "text/plain": [
       "<catboost.core.CatBoostClassifier at 0x7fed4ce94898>"
      ]
     },
     "execution_count": 9,
     "metadata": {},
     "output_type": "execute_result"
    }
   ],
   "source": [
    "clf = CatBoostClassifier()\n",
    "clf.load_model('./GAS/clf_modelBig50k')"
   ]
  },
  {
   "cell_type": "code",
   "execution_count": 10,
   "metadata": {},
   "outputs": [
    {
     "name": "stderr",
     "output_type": "stream",
     "text": [
      "/home/user/miniconda/envs/py36/lib/python3.6/site-packages/torch/distributions/distribution.py:134: UserWarning: sample_n will be deprecated. Use .sample((n,)) instead\n",
      "  warnings.warn('sample_n will be deprecated. Use .sample((n,)) instead', UserWarning)\n"
     ]
    }
   ],
   "source": [
    "calibrated_model = CalibratedModel(clf, model, logit=True)"
   ]
  },
  {
   "cell_type": "code",
   "execution_count": 11,
   "metadata": {},
   "outputs": [
    {
     "data": {
      "text/plain": [
       "-0.254438529626519"
      ]
     },
     "execution_count": 11,
     "metadata": {},
     "output_type": "execute_result"
    }
   ],
   "source": [
    "samples = model.sample_n(10000).detach().cpu().numpy()\n",
    "clf_preds = clf.predict(samples, prediction_type='RawFormulaVal')\n",
    "calibration_constant = logsumexp(clf_preds) - np.log(len(clf_preds))\n",
    "calibration_constant"
   ]
  },
  {
   "cell_type": "code",
   "execution_count": 12,
   "metadata": {},
   "outputs": [
    {
     "data": {
      "text/plain": [
       "(9.482524871826172, 10.447617559862117)"
      ]
     },
     "execution_count": 12,
     "metadata": {},
     "output_type": "execute_result"
    }
   ],
   "source": [
    "-neg_log_likelihood(model, X_test_tensor), \\\n",
    "-neg_log_likelihood(calibrated_model, X_test_tensor) - calibration_constant,"
   ]
  },
  {
   "cell_type": "code",
   "execution_count": 22,
   "metadata": {},
   "outputs": [],
   "source": [
    "new_model = deepcopy(model)\n",
    "optimizer = optim.Adam(new_model.parameters(), lr=0.00005)"
   ]
  },
  {
   "cell_type": "code",
   "execution_count": 23,
   "metadata": {},
   "outputs": [],
   "source": [
    "epochs = 100\n",
    "metrics_train = [-neg_log_likelihood(new_model, X_train_tensor)]\n",
    "metrics_test = [-neg_log_likelihood(new_model, X_test_tensor)]\n",
    "losses = []\n",
    "kls = []\n",
    "rkls = []\n",
    "batch_size = 100 * 1000"
   ]
  },
  {
   "cell_type": "code",
   "execution_count": 24,
   "metadata": {},
   "outputs": [
    {
     "data": {
      "image/png": "[encoded data removed]",
      "text/plain": [
       "<Figure size 1080x1080 with 6 Axes>"
      ]
     },
     "metadata": {
      "needs_background": "light"
     },
     "output_type": "display_data"
    }
   ],
   "source": [
    "samples_model = new_model.sample_n(500 * 1000).detach()\n",
    "samples_true = torch.from_numpy(calibrated_model.sample_n(500 * 1000)).to(device)\n",
    "\n",
    "for i in range(len(losses), epochs):\n",
    "#     samples_model = new_model.sample_n(batch_size).detach()\n",
    "#     samples_true = torch.from_numpy(calibrated_model.sample_n(batch_size)).to(device)\n",
    "\n",
    "    log_probs_model = new_model.log_prob(samples_model)\n",
    "    log_probs_true = new_model.log_prob(samples_true)\n",
    "    \n",
    "    loss = -torch.mean(log_probs_true) + torch.mean(log_probs_model)\n",
    "    loss.backward()\n",
    "    optimizer.step()\n",
    "    \n",
    "    losses.append(loss.item())\n",
    "    metrics_train.append(-neg_log_likelihood(new_model, X_train_tensor))\n",
    "    metrics_test.append(-neg_log_likelihood(new_model, X_test_tensor))\n",
    "    log_probs_model = log_probs_model.detach().cpu().numpy()\n",
    "    kls.append(np.mean(log_probs_model - calibrated_model.log_prob(samples_model)))\n",
    "    log_probs_true = log_probs_true.detach().cpu().numpy()\n",
    "    rkls.append(np.mean(calibrated_model.log_prob(samples_true) - log_probs_true))\n",
    "\n",
    "    clear_output(False)\n",
    "    fig, axs = plt.subplots(3, 2, figsize=(15, 15))\n",
    "    axs[0, 0].plot(np.arange(0, len(metrics_train)), metrics_train)\n",
    "    axs[0, 0].set_title('Train log likelihood')\n",
    "    axs[0, 1].plot(np.arange(0, len(metrics_test)), metrics_test)\n",
    "    axs[0, 1].set_title('Test log likelihood')\n",
    "    \n",
    "    axs[1, 0].plot(np.arange(0, len(losses)), losses)\n",
    "    axs[1, 0].set_title('Loss')\n",
    "    \n",
    "    axs[1, 1].plot(np.arange(0, len(losses)), [x + y for x, y in zip(kls, rkls)])\n",
    "    axs[1, 1].set_title('KL(nf||calib) + KL(calib||nf)')\n",
    "    \n",
    "    axs[2, 0].plot(np.arange(0, len(kls)), kls)\n",
    "    axs[2, 0].set_title('KL(nf||calib)')\n",
    "    axs[2, 1].plot(np.arange(0, len(rkls)), rkls)\n",
    "    axs[2, 1].set_title('KL(calib||nf)')\n",
    "    plt.show()\n",
    "    \n",
    "    if np.mean(log_probs_model - calibrated_model.log_prob(samples_model)) <= 0:\n",
    "        break"
   ]
  },
  {
   "cell_type": "code",
   "execution_count": 30,
   "metadata": {},
   "outputs": [],
   "source": [
    "torch.save(new_model.state_dict(), './GAS/modelBig50k_finetuned1')\n",
    "torch.save(optimizer.state_dict(), './GAS/optimizerBig50k_finetuned1')"
   ]
  },
  {
   "cell_type": "code",
   "execution_count": 27,
   "metadata": {},
   "outputs": [
    {
     "name": "stdout",
     "output_type": "stream",
     "text": [
      "Learning rate set to 0.130847\n",
      "0:\ttest: 0.5545175\tbest: 0.5545175 (0)\ttotal: 459ms\tremaining: 15m 18s\n",
      "200:\ttest: 0.7220501\tbest: 0.7220501 (200)\ttotal: 38.5s\tremaining: 5m 44s\n",
      "400:\ttest: 0.7619643\tbest: 0.7619643 (400)\ttotal: 1m 13s\tremaining: 4m 51s\n",
      "600:\ttest: 0.7847399\tbest: 0.7847399 (600)\ttotal: 1m 48s\tremaining: 4m 11s\n",
      "800:\ttest: 0.8004968\tbest: 0.8004968 (800)\ttotal: 2m 37s\tremaining: 3m 56s\n",
      "1000:\ttest: 0.8120013\tbest: 0.8120013 (1000)\ttotal: 3m 22s\tremaining: 3m 22s\n",
      "1200:\ttest: 0.8209727\tbest: 0.8209727 (1200)\ttotal: 4m\tremaining: 2m 40s\n",
      "1400:\ttest: 0.8285311\tbest: 0.8285311 (1400)\ttotal: 4m 40s\tremaining: 1m 59s\n",
      "1600:\ttest: 0.8349823\tbest: 0.8349823 (1600)\ttotal: 5m 21s\tremaining: 1m 20s\n",
      "1800:\ttest: 0.8407339\tbest: 0.8407339 (1800)\ttotal: 5m 59s\tremaining: 39.7s\n",
      "1999:\ttest: 0.8458652\tbest: 0.8458652 (1999)\ttotal: 6m 33s\tremaining: 0us\n",
      "\n",
      "bestTest = 0.8458651617\n",
      "bestIteration = 1999\n",
      "\n"
     ]
    }
   ],
   "source": [
    "clf_ds_train = make_clf_dataset(X_train_tensor, new_model)\n",
    "clf_ds_test = make_clf_dataset(X_test_tensor, new_model)\n",
    "\n",
    "new_clf = CatBoostClassifier(\n",
    "    2000, eval_metric='AUC',\n",
    "    metric_period=200,\n",
    ").fit(\n",
    "    clf_ds_train[:, :-1], clf_ds_train[:, -1],\n",
    "    eval_set=(clf_ds_test[:, :-1], clf_ds_test[:, -1]),\n",
    "    use_best_model=False\n",
    ")\n",
    "\n",
    "new_calibrated_model = CalibratedModel(new_clf, new_model, logit=True)"
   ]
  },
  {
   "cell_type": "code",
   "execution_count": 28,
   "metadata": {},
   "outputs": [
    {
     "data": {
      "text/plain": [
       "-0.21118240519737164"
      ]
     },
     "execution_count": 28,
     "metadata": {},
     "output_type": "execute_result"
    }
   ],
   "source": [
    "samples = new_model.sample_n(10000).detach().cpu().numpy()\n",
    "clf_preds = new_clf.predict(samples, prediction_type='RawFormulaVal')\n",
    "new_calibration_constant = logsumexp(clf_preds) - np.log(len(clf_preds))\n",
    "new_calibration_constant"
   ]
  },
  {
   "cell_type": "code",
   "execution_count": 34,
   "metadata": {},
   "outputs": [
    {
     "data": {
      "text/plain": [
       "(9.482524871826172, 10.447617559862117, 9.970112800598145, 10.811649610391738)"
      ]
     },
     "execution_count": 34,
     "metadata": {},
     "output_type": "execute_result"
    }
   ],
   "source": [
    "-neg_log_likelihood(model, X_test_tensor), \\\n",
    "-neg_log_likelihood(calibrated_model, X_test_tensor) - calibration_constant, \\\n",
    "-neg_log_likelihood(new_model, X_test_tensor), \\\n",
    "-neg_log_likelihood(new_calibrated_model, X_test_tensor) - new_calibration_constant"
   ]
  }
 ],
 "metadata": {
  "kernelspec": {
   "display_name": "Python 3",
   "language": "python",
   "name": "python3"
  },
  "language_info": {
   "codemirror_mode": {
    "name": "ipython",
    "version": 3
   },
   "file_extension": ".py",
   "mimetype": "text/x-python",
   "name": "python",
   "nbconvert_exporter": "python",
   "pygments_lexer": "ipython3",
   "version": "3.6.9"
  },
  "pycharm": {
   "stem_cell": {
    "cell_type": "raw",
    "metadata": {
     "collapsed": false
    },
    "source": []
   }
  }
 },
 "nbformat": 4,
 "nbformat_minor": 1
}
