{
 "cells": [
  {
   "cell_type": "code",
   "execution_count": 155,
   "metadata": {
    "pycharm": {
     "is_executing": true
    }
   },
   "outputs": [
    {
     "name": "stdout",
     "output_type": "stream",
     "text": [
      "env: CUDA_VISIBLE_DEVICES=0\n"
     ]
    },
    {
     "data": {
      "text/plain": [
       "device(type='cuda')"
      ]
     },
     "execution_count": 155,
     "metadata": {},
     "output_type": "execute_result"
    }
   ],
   "source": [
    "import sys\n",
    "sys.path.append('..')\n",
    "%env CUDA_VISIBLE_DEVICES=0\n",
    "\n",
    "import numpy as np\n",
    "import matplotlib.pyplot as plt\n",
    "from IPython.display import clear_output\n",
    "%matplotlib inline\n",
    "\n",
    "from copy import deepcopy\n",
    "\n",
    "import torch\n",
    "import torch.nn as nn\n",
    "import os\n",
    "from src.nf.classic.utils import Densnet\n",
    "\n",
    "os.environ['KMP_DUPLICATE_LIB_OK'] = 'True'\n",
    "device = torch.device(\"cuda\" if torch.cuda.is_available() else \"cpu\")\n",
    "\n",
    "device"
   ]
  },
  {
   "cell_type": "markdown",
   "metadata": {},
   "source": [
    "### Setup"
   ]
  },
  {
   "cell_type": "code",
   "execution_count": 2,
   "metadata": {},
   "outputs": [
    {
     "name": "stdout",
     "output_type": "stream",
     "text": [
      "BSDS300  GAS  HEPMASS  MINIBOONE  POWER\r\n"
     ]
    }
   ],
   "source": [
    "! ls dumps_20200531"
   ]
  },
  {
   "cell_type": "code",
   "execution_count": 3,
   "metadata": {},
   "outputs": [],
   "source": [
    "data_name = 'GAS'\n",
    "model_type = 'MAF'\n",
    "\n",
    "num_layers = 5\n",
    "num_iters = int(3 * 1e6)\n",
    "\n",
    "model_name = f\"{model_type}_{num_layers}\"\n",
    "\n",
    "model_save_dir = f'../models/{data_name}/{model_name}/'\n",
    "os.makedirs(f'{model_save_dir}/checkpoints', exist_ok=True)\n",
    "if model_type == 'SPLINE-AR':\n",
    "    num_layers = 2\n",
    "\n",
    "dumps_path = f'dumps_20200531/{data_name}/{model_type}_{num_layers}_ind1/checkpoints'\n",
    "dump_path = os.path.join(\n",
    "    dumps_path,\n",
    "    max(os.listdir(dumps_path), key=lambda x: int(x.split('.')[0]))\n",
    ")"
   ]
  },
  {
   "cell_type": "code",
   "execution_count": 4,
   "metadata": {},
   "outputs": [
    {
     "data": {
      "text/plain": [
       "'dumps_20200531/GAS/MAF_5_ind1/checkpoints/450000.checkpoint'"
      ]
     },
     "execution_count": 4,
     "metadata": {},
     "output_type": "execute_result"
    }
   ],
   "source": [
    "dump_path"
   ]
  },
  {
   "cell_type": "markdown",
   "metadata": {},
   "source": [
    "### Data"
   ]
  },
  {
   "cell_type": "code",
   "execution_count": 5,
   "metadata": {
    "pycharm": {
     "is_executing": false,
     "metadata": false,
     "name": "#%%\n"
    }
   },
   "outputs": [],
   "source": [
    "from utils import data_utils\n",
    "\n",
    "data_mapping = {'BSDS300': data_utils.BSDS300,\n",
    "                'GAS': data_utils.GAS,\n",
    "                'MINIBOONE': data_utils.MINIBOONE,\n",
    "                'POWER': data_utils.POWER,\n",
    "                'HEPMASS': data_utils.HEPMASS}\n",
    "data = data_mapping[data_name]()\n",
    "dim = data.n_dims"
   ]
  },
  {
   "cell_type": "code",
   "execution_count": 6,
   "metadata": {
    "pycharm": {
     "is_executing": false,
     "metadata": false,
     "name": "#%%\n"
    }
   },
   "outputs": [],
   "source": [
    "X_train_tensor = torch.from_numpy(data.trn.x).to(device)\n",
    "X_test_tensor = torch.from_numpy(data.tst.x).to(device)"
   ]
  },
  {
   "cell_type": "code",
   "execution_count": 7,
   "metadata": {},
   "outputs": [
    {
     "data": {
      "text/plain": [
       "torch.Size([852174, 8])"
      ]
     },
     "execution_count": 7,
     "metadata": {},
     "output_type": "execute_result"
    }
   ],
   "source": [
    "X_train_tensor.shape"
   ]
  },
  {
   "cell_type": "code",
   "execution_count": 8,
   "metadata": {},
   "outputs": [],
   "source": [
    "from torch.distributions import MultivariateNormal\n",
    "\n",
    "prior = MultivariateNormal(torch.zeros(data.n_dims).to(device),\n",
    "                           torch.eye(data.n_dims).to(device))\n"
   ]
  },
  {
   "cell_type": "code",
   "execution_count": 9,
   "metadata": {},
   "outputs": [
    {
     "data": {
      "text/plain": [
       "<All keys matched successfully>"
      ]
     },
     "execution_count": 9,
     "metadata": {},
     "output_type": "execute_result"
    }
   ],
   "source": [
    "from src.mrartemev_nflib.flows import NormalizingFlowModel, InvertiblePermutation, Invertible1x1Conv, ActNorm, NSF_AR\n",
    "from src.mrartemev_nflib.flows import MAF, AffineHalfFlow\n",
    "from src.mrartemev_nflib.nn import ARMLP, MLP\n",
    "\n",
    "\n",
    "flows = []\n",
    "for _ in range(num_layers):\n",
    "    if model_type == 'MAF':\n",
    "        flows.append(MAF(dim=data.n_dims, base_network=ARMLP))\n",
    "        flows.append(InvertiblePermutation(dim=data.n_dims))\n",
    "    if model_type == 'SPLINE-AR':\n",
    "        flows.append(ActNorm(dim=data.n_dims))\n",
    "        flows.append(Invertible1x1Conv(dim=data.n_dims))\n",
    "        flows.append(NSF_AR(dim=data.n_dims, K=8, B=3, hidden_features=32, depth=1, base_network=MLP))\n",
    "    if model_type == 'GLOW':\n",
    "        flows.append(ActNorm(dim=data.n_dims))\n",
    "        flows.append(Invertible1x1Conv(dim=data.n_dims))\n",
    "        flows.append(AffineHalfFlow(dim=data.n_dims, hidden_features=32, base_network=MLP))\n",
    "        flows.append(InvertiblePermutation(dim=data.n_dims))\n",
    "    if model_type == 'RealNVP':\n",
    "        flows.append(AffineHalfFlow(dim=data.n_dims, base_network=MLP))\n",
    "        flows.append(InvertiblePermutation(dim=data.n_dims))\n",
    "\n",
    "lr = 0.0005\n",
    "        \n",
    "model = NormalizingFlowModel(prior, flows).to(device)\n",
    "# optimizer = torch.optim.Adam(model.parameters(), lr=lr)\n",
    "checkpoint = torch.load(dump_path)\n",
    "model.load_state_dict(checkpoint['model.state_dict()'])"
   ]
  },
  {
   "cell_type": "code",
   "execution_count": 10,
   "metadata": {},
   "outputs": [],
   "source": [
    "def to_device(model, device):\n",
    "    model.to(device)\n",
    "    model.prior = MultivariateNormal(torch.zeros(data.n_dims).to(device),\n",
    "                                     torch.eye(data.n_dims).to(device))\n",
    "\n",
    "to_device(model, device)"
   ]
  },
  {
   "cell_type": "code",
   "execution_count": 11,
   "metadata": {},
   "outputs": [],
   "source": [
    "from torch.utils.data import Dataset, DataLoader, TensorDataset\n",
    "from itertools import repeat\n",
    "\n",
    "dloader = DataLoader(TensorDataset(X_train_tensor), batch_size=14000,\n",
    "                     shuffle=True, drop_last=True)\n",
    "test_dloader = DataLoader(TensorDataset(X_test_tensor), batch_size=2**8,\n",
    "                          shuffle=True, drop_last=True)\n",
    "\n",
    "def repeater(data_loader):\n",
    "    for loader in repeat(data_loader):\n",
    "        for data in loader:\n",
    "            yield data\n",
    "\n",
    "dloader = repeater(dloader)"
   ]
  },
  {
   "cell_type": "markdown",
   "metadata": {},
   "source": [
    "### Model eval"
   ]
  },
  {
   "cell_type": "code",
   "execution_count": 12,
   "metadata": {},
   "outputs": [],
   "source": [
    "from catboost import CatBoostClassifier\n",
    "from sklearn.metrics import roc_auc_score\n",
    "\n",
    "from src.nf import CalibratedModel, neg_log_likelihood\n",
    "from src.nf.classifiers import train_catboost_clf\n",
    "from scipy.special import logsumexp\n"
   ]
  },
  {
   "cell_type": "code",
   "execution_count": 13,
   "metadata": {},
   "outputs": [],
   "source": [
    "def batched_sample(model, n, batch_size=14000):\n",
    "    generated = []\n",
    "    for _ in range(n // batch_size):\n",
    "        generated_batch = model.sample(batch_size)\n",
    "        generated.append(generated_batch.cpu().detach())\n",
    "    if n % batch_size != 0:\n",
    "        generated_batch = model.sample(n % batch_size)\n",
    "        generated.append(generated_batch.cpu().detach())\n",
    "    generated = torch.cat(generated, dim=0)\n",
    "    assert n == len(generated)\n",
    "    return generated\n"
   ]
  },
  {
   "cell_type": "code",
   "execution_count": 14,
   "metadata": {},
   "outputs": [],
   "source": [
    "model.eval()\n",
    "model.sample_n = lambda n: batched_sample(model, n)\n",
    "\n",
    "to_device(model, 'cpu')"
   ]
  },
  {
   "cell_type": "code",
   "execution_count": 15,
   "metadata": {},
   "outputs": [
    {
     "name": "stdout",
     "output_type": "stream",
     "text": [
      "Model test LL  7.799361228942871\n"
     ]
    }
   ],
   "source": [
    "n = min(100000, X_test_tensor.shape[0])\n",
    "\n",
    "print('Model test LL ', torch.mean(model.log_prob(X_test_tensor[:n].cpu())).item())\n",
    "\n",
    "clf_ds_train = np.row_stack([\n",
    "    np.column_stack([X_train_tensor[:n].cpu().detach().numpy(), np.ones(n).reshape(-1, 1)]),\n",
    "    np.column_stack([model.sample_n(n).cpu().detach().numpy(), np.zeros(n).reshape(-1, 1)])\n",
    "]).astype(np.float32)\n",
    "\n",
    "clf_ds_test = np.row_stack([\n",
    "    np.column_stack([X_test_tensor[:n].cpu().detach().numpy(), np.ones(n).reshape(-1, 1)]),\n",
    "    np.column_stack([model.sample_n(n).cpu().detach().numpy(), np.zeros(n).reshape(-1, 1)])\n",
    "]).astype(np.float32)"
   ]
  },
  {
   "cell_type": "code",
   "execution_count": 137,
   "metadata": {},
   "outputs": [
    {
     "name": "stdout",
     "output_type": "stream",
     "text": [
      "Learning rate set to 0.5\n",
      "0:\ttest: 0.5776169\tbest: 0.5776169 (0)\ttotal: 23.9ms\tremaining: 453ms\n",
      "5:\ttest: 0.6525965\tbest: 0.6525965 (5)\ttotal: 94.5ms\tremaining: 220ms\n",
      "10:\ttest: 0.6876959\tbest: 0.6876959 (10)\ttotal: 171ms\tremaining: 140ms\n",
      "15:\ttest: 0.7054989\tbest: 0.7054989 (15)\ttotal: 244ms\tremaining: 61.1ms\n",
      "19:\ttest: 0.7215668\tbest: 0.7215668 (19)\ttotal: 307ms\tremaining: 0us\n",
      "\n",
      "bestTest = 0.721566801\n",
      "bestIteration = 19\n",
      "\n",
      "Learning rate set to 0.364636\n",
      "0:\ttest: 0.5776169\tbest: 0.5776169 (0)\ttotal: 25.6ms\tremaining: 2.53s\n",
      "25:\ttest: 0.7271932\tbest: 0.7271932 (25)\ttotal: 340ms\tremaining: 969ms\n",
      "50:\ttest: 0.7680959\tbest: 0.7680959 (50)\ttotal: 654ms\tremaining: 628ms\n",
      "75:\ttest: 0.7928449\tbest: 0.7928449 (75)\ttotal: 962ms\tremaining: 304ms\n",
      "99:\ttest: 0.8112935\tbest: 0.8112935 (99)\ttotal: 1.27s\tremaining: 0us\n",
      "\n",
      "bestTest = 0.8112934892\n",
      "bestIteration = 99\n",
      "\n",
      "Learning rate set to 0.183105\n",
      "0:\ttest: 0.5776135\tbest: 0.5776135 (0)\ttotal: 37.2ms\tremaining: 18.5s\n",
      "125:\ttest: 0.7997650\tbest: 0.7997650 (125)\ttotal: 3.36s\tremaining: 9.99s\n",
      "250:\ttest: 0.8432781\tbest: 0.8432781 (250)\ttotal: 6.55s\tremaining: 6.5s\n",
      "375:\ttest: 0.8659086\tbest: 0.8659086 (375)\ttotal: 9.09s\tremaining: 3s\n",
      "499:\ttest: 0.8800135\tbest: 0.8800135 (499)\ttotal: 11.5s\tremaining: 0us\n",
      "\n",
      "bestTest = 0.8800135402\n",
      "bestIteration = 499\n",
      "\n",
      "Learning rate set to 0.1361\n",
      "0:\ttest: 0.5776135\tbest: 0.5776135 (0)\ttotal: 33.8ms\tremaining: 33.8s\n",
      "250:\ttest: 0.8267392\tbest: 0.8267392 (250)\ttotal: 6.96s\tremaining: 20.8s\n",
      "500:\ttest: 0.8645829\tbest: 0.8645829 (500)\ttotal: 13.5s\tremaining: 13.5s\n",
      "750:\ttest: 0.8853412\tbest: 0.8853412 (750)\ttotal: 20.2s\tremaining: 6.7s\n",
      "999:\ttest: 0.8982480\tbest: 0.8982480 (999)\ttotal: 27.1s\tremaining: 0us\n",
      "\n",
      "bestTest = 0.8982480058\n",
      "bestIteration = 999\n",
      "\n",
      "Learning rate set to 0.068344\n",
      "0:\ttest: 0.5776135\tbest: 0.5776135 (0)\ttotal: 37.4ms\tremaining: 3m 7s\n",
      "1250:\ttest: 0.8791990\tbest: 0.8791990 (1250)\ttotal: 31.3s\tremaining: 1m 33s\n",
      "2500:\ttest: 0.9097765\tbest: 0.9097765 (2500)\ttotal: 1m 2s\tremaining: 1m 2s\n",
      "3750:\ttest: 0.9235146\tbest: 0.9235146 (3750)\ttotal: 1m 33s\tremaining: 31.2s\n",
      "4999:\ttest: 0.9320831\tbest: 0.9320831 (4999)\ttotal: 2m 5s\tremaining: 0us\n",
      "\n",
      "bestTest = 0.9320830847\n",
      "bestIteration = 4999\n",
      "\n"
     ]
    }
   ],
   "source": [
    "clfs = []\n",
    "for iters in (20, 100, 500, 1000, 5000):\n",
    "    clfs.append(CatBoostClassifier(\n",
    "            iters, eval_metric='AUC',\n",
    "            metric_period=iters // 4\n",
    "        ).fit(\n",
    "            clf_ds_train[:, :-1], clf_ds_train[:, -1],\n",
    "            eval_set=(clf_ds_test[:, :-1], clf_ds_test[:, -1])\n",
    "        )\n",
    "    )"
   ]
  },
  {
   "cell_type": "code",
   "execution_count": 241,
   "metadata": {},
   "outputs": [],
   "source": [
    "iters = np.log(np.array([20, 100, 500, 1000, 5000]))"
   ]
  },
  {
   "cell_type": "code",
   "execution_count": 242,
   "metadata": {},
   "outputs": [
    {
     "name": "stdout",
     "output_type": "stream",
     "text": [
      "7.798459053039551\n"
     ]
    }
   ],
   "source": [
    "nll = -neg_log_likelihood(model, X_test_tensor.cpu().detach())\n",
    "print(nll)\n",
    "calibrated_nlls = []\n",
    "calibrated_nlls_clip = []\n",
    "logits = []\n",
    "logits_clip = []\n",
    "auc_rocs = []\n",
    "auc_rocs_clip = []\n",
    "\n",
    "arr = []\n",
    "\n",
    "for i, clf in enumerate(clfs):\n",
    "    samples = model.sample_n(n).cpu().detach().cpu().numpy()\n",
    "    \n",
    "    calibrated_model = CalibratedModel(clf, model, logit=True)\n",
    "    clf_preds = clf.predict(samples, prediction_type='RawFormulaVal')\n",
    "    calibration_constant = logsumexp(clf_preds) - np.log(len(clf_preds))\n",
    "    logits.append(clf_preds - calibration_constant)\n",
    "    calibrated_nlls.append(\n",
    "        -neg_log_likelihood(calibrated_model, X_test_tensor.cpu().detach()) - calibration_constant\n",
    "    )\n",
    "    auc_roc = roc_auc_score(\n",
    "        clf_ds_test[:, -1],\n",
    "        clf.predict(clf_ds_test[:, :-1], prediction_type='RawFormulaVal'),\n",
    "    )\n",
    "    auc_rocs.append(auc_roc)\n",
    "    arr.append(['model', iters[i], np.max(clf_preds), auc_roc, calibration_constant, np.max(logits[-1]), calibrated_nlls[-1]])\n",
    "\n",
    "    calibrated_model = CalibratedModel(\n",
    "        lambda x: np.clip(clf.predict(x, prediction_type='RawFormulaVal'), -100, np.log(2)),\n",
    "        model,\n",
    "        logit=True\n",
    "    )\n",
    "    clf_preds = np.clip(clf.predict(samples, prediction_type='RawFormulaVal'), -10, np.log(2))\n",
    "    calibration_constant = logsumexp(clf_preds) - np.log(len(clf_preds))\n",
    "    logits_clip.append(clf_preds - calibration_constant)\n",
    "    calibrated_nlls_clip.append(\n",
    "        -neg_log_likelihood(calibrated_model, X_test_tensor.cpu().detach()) - calibration_constant\n",
    "    )\n",
    "    auc_roc = roc_auc_score(\n",
    "        clf_ds_test[:, -1],\n",
    "        np.clip(clf.predict(clf_ds_test[:, :-1], prediction_type='RawFormulaVal'), -10, np.log(2)),\n",
    "    )\n",
    "    auc_rocs_clip.append(auc_roc)\n",
    "    arr.append(['cliped', iters[i], np.max(clf_preds), auc_roc, calibration_constant, np.max(logits_clip[-1]), calibrated_nlls_clip[-1]])"
   ]
  },
  {
   "cell_type": "code",
   "execution_count": 243,
   "metadata": {},
   "outputs": [],
   "source": [
    "import pandas as pd"
   ]
  },
  {
   "cell_type": "code",
   "execution_count": 244,
   "metadata": {},
   "outputs": [
    {
     "data": {
      "text/html": [
       "<div>\n",
       "<style scoped>\n",
       "    .dataframe tbody tr th:only-of-type {\n",
       "        vertical-align: middle;\n",
       "    }\n",
       "\n",
       "    .dataframe tbody tr th {\n",
       "        vertical-align: top;\n",
       "    }\n",
       "\n",
       "    .dataframe thead th {\n",
       "        text-align: right;\n",
       "    }\n",
       "</style>\n",
       "<table border=\"1\" class=\"dataframe\">\n",
       "  <thead>\n",
       "    <tr style=\"text-align: right;\">\n",
       "      <th></th>\n",
       "      <th>model type</th>\n",
       "      <th>log iters</th>\n",
       "      <th>max clf pred</th>\n",
       "      <th>auc roc</th>\n",
       "      <th>calib const</th>\n",
       "      <th>max logit</th>\n",
       "      <th>nll</th>\n",
       "    </tr>\n",
       "  </thead>\n",
       "  <tbody>\n",
       "    <tr>\n",
       "      <th>0</th>\n",
       "      <td>model</td>\n",
       "      <td>2.995732</td>\n",
       "      <td>2.923081</td>\n",
       "      <td>0.720946</td>\n",
       "      <td>-0.074274</td>\n",
       "      <td>2.997354</td>\n",
       "      <td>8.088712</td>\n",
       "    </tr>\n",
       "    <tr>\n",
       "      <th>1</th>\n",
       "      <td>cliped</td>\n",
       "      <td>2.995732</td>\n",
       "      <td>0.693147</td>\n",
       "      <td>0.720512</td>\n",
       "      <td>-0.097361</td>\n",
       "      <td>0.790508</td>\n",
       "      <td>8.064744</td>\n",
       "    </tr>\n",
       "    <tr>\n",
       "      <th>2</th>\n",
       "      <td>model</td>\n",
       "      <td>4.605170</td>\n",
       "      <td>2.595784</td>\n",
       "      <td>0.810994</td>\n",
       "      <td>-0.162426</td>\n",
       "      <td>2.758209</td>\n",
       "      <td>8.444969</td>\n",
       "    </tr>\n",
       "    <tr>\n",
       "      <th>3</th>\n",
       "      <td>cliped</td>\n",
       "      <td>4.605170</td>\n",
       "      <td>0.693147</td>\n",
       "      <td>0.807426</td>\n",
       "      <td>-0.239654</td>\n",
       "      <td>0.932802</td>\n",
       "      <td>8.329953</td>\n",
       "    </tr>\n",
       "    <tr>\n",
       "      <th>4</th>\n",
       "      <td>model</td>\n",
       "      <td>6.214608</td>\n",
       "      <td>4.758940</td>\n",
       "      <td>0.879656</td>\n",
       "      <td>-0.270689</td>\n",
       "      <td>5.029629</td>\n",
       "      <td>8.886888</td>\n",
       "    </tr>\n",
       "    <tr>\n",
       "      <th>5</th>\n",
       "      <td>cliped</td>\n",
       "      <td>6.214608</td>\n",
       "      <td>0.693147</td>\n",
       "      <td>0.871439</td>\n",
       "      <td>-0.424218</td>\n",
       "      <td>1.117365</td>\n",
       "      <td>8.622383</td>\n",
       "    </tr>\n",
       "    <tr>\n",
       "      <th>6</th>\n",
       "      <td>model</td>\n",
       "      <td>6.907755</td>\n",
       "      <td>4.322397</td>\n",
       "      <td>0.897976</td>\n",
       "      <td>-0.311510</td>\n",
       "      <td>4.633907</td>\n",
       "      <td>9.064598</td>\n",
       "    </tr>\n",
       "    <tr>\n",
       "      <th>7</th>\n",
       "      <td>cliped</td>\n",
       "      <td>6.907755</td>\n",
       "      <td>0.693147</td>\n",
       "      <td>0.888675</td>\n",
       "      <td>-0.504011</td>\n",
       "      <td>1.197158</td>\n",
       "      <td>8.733052</td>\n",
       "    </tr>\n",
       "    <tr>\n",
       "      <th>8</th>\n",
       "      <td>model</td>\n",
       "      <td>8.517193</td>\n",
       "      <td>4.912330</td>\n",
       "      <td>0.931646</td>\n",
       "      <td>-0.379286</td>\n",
       "      <td>5.291616</td>\n",
       "      <td>9.529157</td>\n",
       "    </tr>\n",
       "    <tr>\n",
       "      <th>9</th>\n",
       "      <td>cliped</td>\n",
       "      <td>8.517193</td>\n",
       "      <td>0.693147</td>\n",
       "      <td>0.918370</td>\n",
       "      <td>-0.707128</td>\n",
       "      <td>1.400276</td>\n",
       "      <td>9.002597</td>\n",
       "    </tr>\n",
       "  </tbody>\n",
       "</table>\n",
       "</div>"
      ],
      "text/plain": [
       "  model type  log iters  max clf pred   auc roc  calib const  max logit  \\\n",
       "0      model   2.995732      2.923081  0.720946    -0.074274   2.997354   \n",
       "1     cliped   2.995732      0.693147  0.720512    -0.097361   0.790508   \n",
       "2      model   4.605170      2.595784  0.810994    -0.162426   2.758209   \n",
       "3     cliped   4.605170      0.693147  0.807426    -0.239654   0.932802   \n",
       "4      model   6.214608      4.758940  0.879656    -0.270689   5.029629   \n",
       "5     cliped   6.214608      0.693147  0.871439    -0.424218   1.117365   \n",
       "6      model   6.907755      4.322397  0.897976    -0.311510   4.633907   \n",
       "7     cliped   6.907755      0.693147  0.888675    -0.504011   1.197158   \n",
       "8      model   8.517193      4.912330  0.931646    -0.379286   5.291616   \n",
       "9     cliped   8.517193      0.693147  0.918370    -0.707128   1.400276   \n",
       "\n",
       "        nll  \n",
       "0  8.088712  \n",
       "1  8.064744  \n",
       "2  8.444969  \n",
       "3  8.329953  \n",
       "4  8.886888  \n",
       "5  8.622383  \n",
       "6  9.064598  \n",
       "7  8.733052  \n",
       "8  9.529157  \n",
       "9  9.002597  "
      ]
     },
     "execution_count": 244,
     "metadata": {},
     "output_type": "execute_result"
    }
   ],
   "source": [
    "pd.DataFrame(arr, columns=['model type', 'log iters', 'max clf pred', 'auc roc', 'calib const', 'max logit', 'nll'])"
   ]
  },
  {
   "cell_type": "code",
   "execution_count": 250,
   "metadata": {},
   "outputs": [
    {
     "data": {
      "image/png": "[encoded data removed]",
      "text/plain": [
       "<Figure size 432x288 with 1 Axes>"
      ]
     },
     "metadata": {
      "needs_background": "light"
     },
     "output_type": "display_data"
    }
   ],
   "source": [
    "plt.hist(logits[-1], bins=50, density=True);"
   ]
  },
  {
   "cell_type": "code",
   "execution_count": 246,
   "metadata": {},
   "outputs": [
    {
     "data": {
      "image/png": "[encoded data removed]",
      "text/plain": [
       "<Figure size 432x288 with 1 Axes>"
      ]
     },
     "metadata": {
      "needs_background": "light"
     },
     "output_type": "display_data"
    }
   ],
   "source": [
    "plt.hist(logits_clip[0], bins=50, density=True);"
   ]
  },
  {
   "cell_type": "code",
   "execution_count": 247,
   "metadata": {},
   "outputs": [
    {
     "data": {
      "image/png": "[encoded data removed]",
      "text/plain": [
       "<Figure size 1296x360 with 3 Axes>"
      ]
     },
     "metadata": {
      "needs_background": "light"
     },
     "output_type": "display_data"
    }
   ],
   "source": [
    "fig, axs = plt.subplots(1, 3, figsize=(18, 5))\n",
    "\n",
    "axs[0].plot(np.log(np.array([20, 5000])), [nll, nll], label='Model likelihood', color='red')\n",
    "axs[0].plot(iters, calibrated_nlls, label='Calibrated models likelihood', color='green')\n",
    "axs[0].plot(iters, calibrated_nlls_clip, label='Calibrated cliped models likelihood', color='blue')\n",
    "axs[0].set_xlabel('Catboost log trees', fontsize=14)\n",
    "axs[0].set_ylabel('Log likelihood', fontsize=14)\n",
    "axs[0].legend()\n",
    "axs[0].grid()\n",
    "axs[0].set_title('MAF GAS');\n",
    "\n",
    "\n",
    "overheads = [max(x) for x in logits]\n",
    "overheads_cliped = [max(x) for x in logits_clip]\n",
    "axs[1].plot(np.log(np.array([20, 5000])), [0, 0], label='Model log overhead', color='red')\n",
    "axs[1].plot(iters, overheads, label='Calibrated models log overheads', color='green')\n",
    "axs[1].plot(iters, overheads_cliped, label='Calibrated cliped models log overheads', color='blue')\n",
    "axs[1].set_xlabel('Catboost log trees', fontsize=14)\n",
    "axs[1].set_ylabel('Log overhead', fontsize=14)\n",
    "axs[1].legend()\n",
    "axs[1].grid()\n",
    "axs[1].set_title('MAF GAS');\n",
    "\n",
    "axs[2].plot(iters, auc_rocs, label='Classifier AUC ROC', color='green')\n",
    "axs[2].plot(iters, auc_rocs_clip, label='Classifier cliped AUC ROC', color='blue')\n",
    "axs[2].set_xlabel('Catboost log trees', fontsize=14)\n",
    "axs[2].set_ylabel('AUC ROC', fontsize=14)\n",
    "axs[2].legend()\n",
    "axs[2].grid()\n",
    "axs[2].set_title('MAF GAS');"
   ]
  },
  {
   "cell_type": "markdown",
   "metadata": {},
   "source": [
    "## NN clf"
   ]
  },
  {
   "cell_type": "code",
   "execution_count": 150,
   "metadata": {},
   "outputs": [],
   "source": [
    "clf_ds_train = np.row_stack([\n",
    "    np.column_stack([X_train_tensor[:n].cpu().detach().numpy(), np.ones(n).reshape(-1, 1)]),\n",
    "    np.column_stack([model.sample_n(n).cpu().detach().numpy(), np.zeros(n).reshape(-1, 1)])\n",
    "]).astype(np.float32)\n",
    "\n",
    "clf_ds_test = np.row_stack([\n",
    "    np.column_stack([X_test_tensor[:n].cpu().detach().numpy(), np.ones(n).reshape(-1, 1)]),\n",
    "    np.column_stack([model.sample_n(n).cpu().detach().numpy(), np.zeros(n).reshape(-1, 1)])\n",
    "]).astype(np.float32)\n",
    "\n",
    "clf_X_train = torch.from_numpy(clf_ds_train[:, :-1]).to(device)\n",
    "clf_Y_train = torch.from_numpy(clf_ds_train[:, -1]).to(device)\n",
    "clf_X_test = torch.from_numpy(clf_ds_test[:, :-1]).to(device)\n",
    "clf_Y_test = torch.from_numpy(clf_ds_test[:, -1]).to(device)"
   ]
  },
  {
   "cell_type": "code",
   "execution_count": 216,
   "metadata": {},
   "outputs": [],
   "source": [
    "class Densnet(nn.Module):\n",
    "    def __init__(self, in_dim, out_dim, hidden_dims):\n",
    "        super().__init__()\n",
    "        self.layers = []\n",
    "        x = in_dim\n",
    "        for dim in hidden_dims + [out_dim]:\n",
    "            self.layers.append(nn.Linear(x, dim))\n",
    "            x += dim\n",
    "\n",
    "        self.layers = nn.ModuleList(self.layers)\n",
    "#         self.activations = [nn.ReLU()] * len(hidden_dims))\n",
    "        self.activations = [nn.ReLU()] * (len(hidden_dims) - 1)\n",
    "        self.activations.append(nn.Tanh())\n",
    "\n",
    "    def forward(self, x: torch.Tensor) -> torch.Tensor:\n",
    "        out = self.layers[0](x)\n",
    "        for activation, layer in zip(self.layers[1:], self.activations):\n",
    "            x = torch.cat([x, out], dim=1)\n",
    "            out = layer(activation(x))\n",
    "        return out"
   ]
  },
  {
   "cell_type": "code",
   "execution_count": 217,
   "metadata": {},
   "outputs": [],
   "source": [
    "nn_clf = Densnet(dim, 1, [32] * 6).to(device)\n",
    "crit = nn.BCEWithLogitsLoss()\n",
    "optim = torch.optim.Adam(nn_clf.parameters(), lr=0.005)"
   ]
  },
  {
   "cell_type": "code",
   "execution_count": 218,
   "metadata": {},
   "outputs": [
    {
     "data": {
      "image/png": "[encoded data removed]",
      "text/plain": [
       "<Figure size 432x288 with 1 Axes>"
      ]
     },
     "metadata": {
      "needs_background": "light"
     },
     "output_type": "display_data"
    }
   ],
   "source": [
    "losses = []\n",
    "nn_clfs = []\n",
    "\n",
    "for i in range(2101):\n",
    "    optim.zero_grad()\n",
    "    preds = nn_clf(clf_X_train)\n",
    "    loss = crit(preds.view(-1), clf_Y_train)\n",
    "    loss.backward()\n",
    "    optim.step()\n",
    "    \n",
    "    if i % 100 == 0:\n",
    "        model.eval()\n",
    "        with torch.no_grad():\n",
    "            preds = nn_clf(clf_X_test)\n",
    "            loss = crit(preds.view(-1), clf_Y_test)\n",
    "            losses.append([\n",
    "                loss.item(),\n",
    "                roc_auc_score(clf_Y_test.detach().cpu().numpy(), preds.detach().cpu().numpy())\n",
    "            ])\n",
    "\n",
    "            clear_output(False)\n",
    "            plt.plot([x[0] for x in losses], label='LogLoss')\n",
    "            plt.plot([x[1] for x in losses], label='AUC ROC')\n",
    "            plt.show()\n",
    "    if i % 500 == 100:\n",
    "        nn_clfs.append(deepcopy(nn_clf))"
   ]
  },
  {
   "cell_type": "code",
   "execution_count": 219,
   "metadata": {},
   "outputs": [],
   "source": [
    "from src.nf import to_numpy, to_torch"
   ]
  },
  {
   "cell_type": "code",
   "execution_count": 220,
   "metadata": {},
   "outputs": [],
   "source": [
    "class CalibratedModel:\n",
    "    def __init__(self, clf, model, logit=False, c=None, n_samples_c=100):\n",
    "        super().__init__()\n",
    "        self.clf = self._clf_wrapper(clf)\n",
    "        self.model = model\n",
    "        self.logit = logit\n",
    "        self.c = c or self.deduce_rejection_constant(n_samples_c)\n",
    "\n",
    "    def log_prob(self, x):\n",
    "        discr = self.clf(to_numpy(x))\n",
    "\n",
    "        if isinstance(self.model, nn.Module):\n",
    "            with torch.no_grad():\n",
    "                self.model.eval()\n",
    "                x = to_torch(x).to(next(self.model.parameters()).device)\n",
    "                log_probs = self.model.log_prob(x).detach().cpu().numpy()\n",
    "        else:\n",
    "            log_probs = self.model.log_prob(x)\n",
    "\n",
    "        if self.logit:\n",
    "            return log_probs + discr\n",
    "        else:\n",
    "            return log_probs + np.log(discr) - np.log1p(-discr)\n",
    "\n",
    "    def rsample(self, sample_shape=torch.Size()):\n",
    "        n_samples = sample_shape.numel()\n",
    "        return rejection_sampling(self, self.model, self.c, n_samples)\n",
    "\n",
    "    def deduce_rejection_constant(self, n_samples: int, eps=0.1):\n",
    "        x = to_numpy(self.model.sample_n(n_samples))\n",
    "#         print(x)\n",
    "        logits = self.clf(x)\n",
    "        return np.max(np.exp(logits)) + eps\n",
    "\n",
    "    @staticmethod\n",
    "    def _clf_wrapper(clf):\n",
    "        if isinstance(clf, CatBoostClassifier):\n",
    "            return lambda x: clf.predict(x, prediction_type='RawFormulaVal')\n",
    "        else:\n",
    "            return clf\n",
    "\n",
    "    def __repr__(self):\n",
    "        return f'CalibratedModel(clf={self.clf}, model={self.model}, c={self.c}, logit={self.logit})'"
   ]
  },
  {
   "cell_type": "code",
   "execution_count": 233,
   "metadata": {},
   "outputs": [
    {
     "name": "stdout",
     "output_type": "stream",
     "text": [
      "7.798459053039551\n"
     ]
    }
   ],
   "source": [
    "nll = -neg_log_likelihood(model, X_test_tensor.cpu().detach())\n",
    "print(nll)\n",
    "calibrated_nlls = []\n",
    "calibrated_nlls_clip = []\n",
    "logits = []\n",
    "logits_clip = []\n",
    "auc_rocs = []\n",
    "auc_rocs_clip = []\n",
    "\n",
    "arr = []\n",
    "\n",
    "for i, clf_ in enumerate(nn_clfs):\n",
    "    samples = model.sample_n(n).cpu().detach().cpu().numpy()\n",
    "    \n",
    "    clf_.eval()\n",
    "    with torch.no_grad():\n",
    "        clf = lambda x: to_numpy(clf_(to_torch(x).to(device))).reshape(-1)\n",
    "\n",
    "        calibrated_model = CalibratedModel(clf, model, logit=True)\n",
    "        clf_preds = clf(samples)\n",
    "        calibration_constant = logsumexp(clf_preds) - np.log(len(clf_preds))\n",
    "        logits.append(clf_preds - calibration_constant)\n",
    "        calibrated_nlls.append(\n",
    "            -neg_log_likelihood(calibrated_model, X_test_tensor.cpu().detach()) - calibration_constant\n",
    "        )\n",
    "        auc_roc = roc_auc_score(\n",
    "            clf_ds_test[:, -1],\n",
    "            clf(clf_ds_test[:, :-1]),\n",
    "        )\n",
    "        auc_rocs.append(auc_roc)\n",
    "        arr.append(['model', iters[i], np.max(clf_preds), auc_roc, calibration_constant, np.max(logits[-1]), calibrated_nlls[-1]])\n",
    "\n",
    "        calibrated_model = CalibratedModel(\n",
    "            lambda x: np.clip(clf(x), -100, np.log(2) + calibration_constant),\n",
    "            model,\n",
    "            logit=True\n",
    "        )\n",
    "        clf_preds = np.clip(clf(samples), -10, np.log(2) + calibration_constant)\n",
    "        calibration_constant = logsumexp(clf_preds) - np.log(len(clf_preds))\n",
    "        logits_clip.append(clf_preds - calibration_constant)\n",
    "        calibrated_nlls_clip.append(\n",
    "            -neg_log_likelihood(calibrated_model, X_test_tensor.cpu().detach()) - calibration_constant\n",
    "        )\n",
    "        auc_roc = roc_auc_score(\n",
    "            clf_ds_test[:, -1],\n",
    "            np.clip(clf(clf_ds_test[:, :-1]), -10, np.log(2)),\n",
    "        )\n",
    "        auc_rocs_clip.append(auc_roc)\n",
    "        arr.append(['cliped', iters[i], np.max(clf_preds), auc_roc, calibration_constant, np.max(logits_clip[-1]), calibrated_nlls_clip[-1]])"
   ]
  },
  {
   "cell_type": "code",
   "execution_count": 234,
   "metadata": {},
   "outputs": [
    {
     "data": {
      "text/html": [
       "<div>\n",
       "<style scoped>\n",
       "    .dataframe tbody tr th:only-of-type {\n",
       "        vertical-align: middle;\n",
       "    }\n",
       "\n",
       "    .dataframe tbody tr th {\n",
       "        vertical-align: top;\n",
       "    }\n",
       "\n",
       "    .dataframe thead th {\n",
       "        text-align: right;\n",
       "    }\n",
       "</style>\n",
       "<table border=\"1\" class=\"dataframe\">\n",
       "  <thead>\n",
       "    <tr style=\"text-align: right;\">\n",
       "      <th></th>\n",
       "      <th>model type</th>\n",
       "      <th>log iters</th>\n",
       "      <th>max clf pred</th>\n",
       "      <th>auc roc</th>\n",
       "      <th>calib const</th>\n",
       "      <th>max logit</th>\n",
       "      <th>nll</th>\n",
       "    </tr>\n",
       "  </thead>\n",
       "  <tbody>\n",
       "    <tr>\n",
       "      <th>0</th>\n",
       "      <td>model</td>\n",
       "      <td>100</td>\n",
       "      <td>1.000000</td>\n",
       "      <td>0.629370</td>\n",
       "      <td>0.027714</td>\n",
       "      <td>0.972286</td>\n",
       "      <td>7.907941</td>\n",
       "    </tr>\n",
       "    <tr>\n",
       "      <th>1</th>\n",
       "      <td>cliped</td>\n",
       "      <td>100</td>\n",
       "      <td>0.720862</td>\n",
       "      <td>0.629278</td>\n",
       "      <td>0.019641</td>\n",
       "      <td>0.701221</td>\n",
       "      <td>7.905099</td>\n",
       "    </tr>\n",
       "    <tr>\n",
       "      <th>2</th>\n",
       "      <td>model</td>\n",
       "      <td>600</td>\n",
       "      <td>1.000000</td>\n",
       "      <td>0.781205</td>\n",
       "      <td>-0.131906</td>\n",
       "      <td>1.131906</td>\n",
       "      <td>8.274486</td>\n",
       "    </tr>\n",
       "    <tr>\n",
       "      <th>3</th>\n",
       "      <td>cliped</td>\n",
       "      <td>600</td>\n",
       "      <td>0.561241</td>\n",
       "      <td>0.778339</td>\n",
       "      <td>-0.237912</td>\n",
       "      <td>0.799153</td>\n",
       "      <td>8.169896</td>\n",
       "    </tr>\n",
       "    <tr>\n",
       "      <th>4</th>\n",
       "      <td>model</td>\n",
       "      <td>1100</td>\n",
       "      <td>1.000000</td>\n",
       "      <td>0.812281</td>\n",
       "      <td>-0.204550</td>\n",
       "      <td>1.204550</td>\n",
       "      <td>8.387872</td>\n",
       "    </tr>\n",
       "    <tr>\n",
       "      <th>5</th>\n",
       "      <td>cliped</td>\n",
       "      <td>1100</td>\n",
       "      <td>0.488597</td>\n",
       "      <td>0.808621</td>\n",
       "      <td>-0.348121</td>\n",
       "      <td>0.836718</td>\n",
       "      <td>8.222186</td>\n",
       "    </tr>\n",
       "    <tr>\n",
       "      <th>6</th>\n",
       "      <td>model</td>\n",
       "      <td>1600</td>\n",
       "      <td>1.000000</td>\n",
       "      <td>0.830386</td>\n",
       "      <td>-0.078294</td>\n",
       "      <td>1.078294</td>\n",
       "      <td>8.465744</td>\n",
       "    </tr>\n",
       "    <tr>\n",
       "      <th>7</th>\n",
       "      <td>cliped</td>\n",
       "      <td>1600</td>\n",
       "      <td>0.614853</td>\n",
       "      <td>0.819079</td>\n",
       "      <td>-0.215677</td>\n",
       "      <td>0.830530</td>\n",
       "      <td>8.283566</td>\n",
       "    </tr>\n",
       "    <tr>\n",
       "      <th>8</th>\n",
       "      <td>model</td>\n",
       "      <td>2100</td>\n",
       "      <td>1.000000</td>\n",
       "      <td>0.840198</td>\n",
       "      <td>-0.187727</td>\n",
       "      <td>1.187727</td>\n",
       "      <td>8.522212</td>\n",
       "    </tr>\n",
       "    <tr>\n",
       "      <th>9</th>\n",
       "      <td>cliped</td>\n",
       "      <td>2100</td>\n",
       "      <td>0.505420</td>\n",
       "      <td>0.833025</td>\n",
       "      <td>-0.364695</td>\n",
       "      <td>0.870115</td>\n",
       "      <td>8.282144</td>\n",
       "    </tr>\n",
       "  </tbody>\n",
       "</table>\n",
       "</div>"
      ],
      "text/plain": [
       "  model type  log iters  max clf pred   auc roc  calib const  max logit  \\\n",
       "0      model        100      1.000000  0.629370     0.027714   0.972286   \n",
       "1     cliped        100      0.720862  0.629278     0.019641   0.701221   \n",
       "2      model        600      1.000000  0.781205    -0.131906   1.131906   \n",
       "3     cliped        600      0.561241  0.778339    -0.237912   0.799153   \n",
       "4      model       1100      1.000000  0.812281    -0.204550   1.204550   \n",
       "5     cliped       1100      0.488597  0.808621    -0.348121   0.836718   \n",
       "6      model       1600      1.000000  0.830386    -0.078294   1.078294   \n",
       "7     cliped       1600      0.614853  0.819079    -0.215677   0.830530   \n",
       "8      model       2100      1.000000  0.840198    -0.187727   1.187727   \n",
       "9     cliped       2100      0.505420  0.833025    -0.364695   0.870115   \n",
       "\n",
       "        nll  \n",
       "0  7.907941  \n",
       "1  7.905099  \n",
       "2  8.274486  \n",
       "3  8.169896  \n",
       "4  8.387872  \n",
       "5  8.222186  \n",
       "6  8.465744  \n",
       "7  8.283566  \n",
       "8  8.522212  \n",
       "9  8.282144  "
      ]
     },
     "execution_count": 234,
     "metadata": {},
     "output_type": "execute_result"
    }
   ],
   "source": [
    "pd.DataFrame(arr, columns=['model type', 'log iters', 'max clf pred', 'auc roc', 'calib const', 'max logit', 'nll'])"
   ]
  },
  {
   "cell_type": "code",
   "execution_count": 236,
   "metadata": {},
   "outputs": [],
   "source": [
    "iters = np.array([100, 600, 1100, 1600, 2100])"
   ]
  },
  {
   "cell_type": "code",
   "execution_count": 237,
   "metadata": {},
   "outputs": [
    {
     "data": {
      "image/png": "[encoded data removed]",
      "text/plain": [
       "<Figure size 1296x360 with 3 Axes>"
      ]
     },
     "metadata": {
      "needs_background": "light"
     },
     "output_type": "display_data"
    }
   ],
   "source": [
    "fig, axs = plt.subplots(1, 3, figsize=(18, 5))\n",
    "\n",
    "axs[0].plot([iters[0], iters[-1]], [nll, nll], label='Model likelihood', color='red')\n",
    "axs[0].plot(iters, calibrated_nlls, label='Calibrated models likelihood', color='green')\n",
    "axs[0].plot(iters, calibrated_nlls_clip, label='Calibrated cliped models likelihood', color='blue')\n",
    "axs[0].set_xlabel('Densnet iterations', fontsize=14)\n",
    "axs[0].set_ylabel('Log likelihood', fontsize=14)\n",
    "axs[0].legend()\n",
    "axs[0].grid()\n",
    "axs[0].set_title('MAF GAS');\n",
    "\n",
    "\n",
    "overheads = [max(x) for x in logits]\n",
    "overheads_cliped = [max(x) for x in logits_clip]\n",
    "axs[1].plot([iters[0], iters[-1]], [0, 0], label='Model log overhead', color='red')\n",
    "axs[1].plot(iters, overheads, label='Calibrated models log overheads', color='green')\n",
    "axs[1].plot(iters, overheads_cliped, label='Calibrated cliped models log overheads', color='blue')\n",
    "axs[1].set_xlabel('Densnet iterations', fontsize=14)\n",
    "axs[1].set_ylabel('Log overhead', fontsize=14)\n",
    "axs[1].legend()\n",
    "axs[1].grid()\n",
    "axs[1].set_title('MAF GAS');\n",
    "\n",
    "axs[2].plot(iters, auc_rocs, label='Classifier AUC ROC', color='green')\n",
    "axs[2].plot(iters, auc_rocs_clip, label='Classifier cliped AUC ROC', color='blue')\n",
    "axs[2].set_xlabel('Densnet iterations', fontsize=14)\n",
    "axs[2].set_ylabel('AUC ROC', fontsize=14)\n",
    "axs[2].legend()\n",
    "axs[2].grid()\n",
    "axs[2].set_title('MAF GAS');"
   ]
  },
  {
   "cell_type": "code",
   "execution_count": null,
   "metadata": {},
   "outputs": [],
   "source": []
  },
  {
   "cell_type": "code",
   "execution_count": 258,
   "metadata": {},
   "outputs": [
    {
     "data": {
      "text/plain": [
       "<matplotlib.legend.Legend at 0x7fc4fc58bba8>"
      ]
     },
     "execution_count": 258,
     "metadata": {},
     "output_type": "execute_result"
    },
    {
     "data": {
      "image/png": "[encoded data removed]",
      "text/plain": [
       "<Figure size 432x288 with 1 Axes>"
      ]
     },
     "metadata": {
      "needs_background": "light"
     },
     "output_type": "display_data"
    }
   ],
   "source": [
    "clf_preds = clfs[2].predict(samples, prediction_type='RawFormulaVal')\n",
    "calibration_constant = logsumexp(clf_preds) - np.log(len(clf_preds))\n",
    "gb_logist = clf_preds - calibration_constant\n",
    "\n",
    "\n",
    "clf = lambda x: to_numpy(nn_clfs[-1](to_torch(x).to(device))).reshape(-1)\n",
    "clf_preds = clf(samples)\n",
    "calibration_constant = logsumexp(clf_preds) - np.log(len(clf_preds))\n",
    "nn_logits = clf_preds - calibration_constant\n",
    "\n",
    "plt.hist(gb_logist, alpha=0.6, bins=50, label='Caboost logits');\n",
    "plt.hist(nn_logits, alpha=0.6, bins=50, label='NN logits');\n",
    "plt.legend()"
   ]
  },
  {
   "cell_type": "code",
   "execution_count": null,
   "metadata": {},
   "outputs": [],
   "source": []
  },
  {
   "cell_type": "code",
   "execution_count": null,
   "metadata": {},
   "outputs": [],
   "source": []
  },
  {
   "cell_type": "code",
   "execution_count": 260,
   "metadata": {},
   "outputs": [],
   "source": [
    "clf_ds_train = np.row_stack([\n",
    "    np.column_stack([X_train_tensor[:n].cpu().detach().numpy(), np.ones(n).reshape(-1, 1)]),\n",
    "    np.column_stack([model.sample_n(n).cpu().detach().numpy(), np.zeros(n).reshape(-1, 1)])\n",
    "]).astype(np.float32)\n",
    "\n",
    "clf_ds_test = np.row_stack([\n",
    "    np.column_stack([X_test_tensor[:n].cpu().detach().numpy(), np.ones(n).reshape(-1, 1)]),\n",
    "    np.column_stack([model.sample_n(n).cpu().detach().numpy(), np.zeros(n).reshape(-1, 1)])\n",
    "]).astype(np.float32)\n",
    "\n",
    "clf_X_train = torch.from_numpy(clf_ds_train[:, :-1]).to(device)\n",
    "clf_Y_train = torch.from_numpy(clf_ds_train[:, -1]).to(device)\n",
    "clf_X_test = torch.from_numpy(clf_ds_test[:, :-1]).to(device)\n",
    "clf_Y_test = torch.from_numpy(clf_ds_test[:, -1]).to(device)"
   ]
  },
  {
   "cell_type": "code",
   "execution_count": 261,
   "metadata": {},
   "outputs": [],
   "source": [
    "nn_clf = Densnet(dim, 1, [32] * 6).to(device)\n",
    "crit = nn.BCEWithLogitsLoss()\n",
    "optim = torch.optim.Adam(nn_clf.parameters(), lr=0.005)"
   ]
  },
  {
   "cell_type": "code",
   "execution_count": 262,
   "metadata": {},
   "outputs": [
    {
     "data": {
      "image/png": "[encoded data removed]",
      "text/plain": [
       "<Figure size 432x288 with 1 Axes>"
      ]
     },
     "metadata": {
      "needs_background": "light"
     },
     "output_type": "display_data"
    }
   ],
   "source": [
    "losses = []\n",
    "\n",
    "for i in range(2101):\n",
    "    optim.zero_grad()\n",
    "    preds = nn_clf(clf_X_train)\n",
    "    loss = crit(preds.view(-1), clf_Y_train)\n",
    "    loss.backward()\n",
    "    optim.step()\n",
    "    \n",
    "    if i % 100 == 0:\n",
    "        model.eval()\n",
    "        with torch.no_grad():\n",
    "            preds = nn_clf(clf_X_test)\n",
    "            loss = crit(preds.view(-1), clf_Y_test)\n",
    "            losses.append([\n",
    "                loss.item(),\n",
    "                roc_auc_score(clf_Y_test.detach().cpu().numpy(), preds.detach().cpu().numpy())\n",
    "            ])\n",
    "\n",
    "            clear_output(False)\n",
    "            plt.plot([x[0] for x in losses], label='LogLoss')\n",
    "            plt.plot([x[1] for x in losses], label='AUC ROC')\n",
    "            plt.show()"
   ]
  },
  {
   "cell_type": "code",
   "execution_count": 281,
   "metadata": {},
   "outputs": [
    {
     "name": "stdout",
     "output_type": "stream",
     "text": [
      "Learning rate set to 0.183105\n",
      "0:\tlearn: 0.6880405\ttest: 0.6881818\tbest: 0.6881818 (0)\ttotal: 18.7ms\tremaining: 9.32s\n",
      "250:\tlearn: 0.5025220\ttest: 0.5114963\tbest: 0.5114963 (250)\ttotal: 3.61s\tremaining: 3.58s\n",
      "499:\tlearn: 0.4421216\ttest: 0.4588919\tbest: 0.4588919 (499)\ttotal: 7.2s\tremaining: 0us\n",
      "\n",
      "bestTest = 0.4588919074\n",
      "bestIteration = 499\n",
      "\n"
     ]
    }
   ],
   "source": [
    "clf_cb = CatBoostClassifier(\n",
    "    500,\n",
    "#     eval_metric='AUC',\n",
    "    loss_function='Logloss',\n",
    "    metric_period=250\n",
    ").fit(\n",
    "    clf_ds_train[:, :-1], clf_ds_train[:, -1],\n",
    "    eval_set=(clf_ds_test[:, :-1], clf_ds_test[:, -1])\n",
    ")"
   ]
  },
  {
   "cell_type": "code",
   "execution_count": 272,
   "metadata": {},
   "outputs": [
    {
     "data": {
      "text/plain": [
       "(100000, 100000)"
      ]
     },
     "execution_count": 272,
     "metadata": {},
     "output_type": "execute_result"
    }
   ],
   "source": [
    "len(gb_logits), len(nn_logits)"
   ]
  },
  {
   "cell_type": "code",
   "execution_count": 280,
   "metadata": {},
   "outputs": [
    {
     "data": {
      "text/plain": [
       "Text(0.5, 1.0, 'Densnet logits')"
      ]
     },
     "execution_count": 280,
     "metadata": {},
     "output_type": "execute_result"
    },
    {
     "data": {
      "image/png": "[encoded data removed]",
      "text/plain": [
       "<Figure size 1296x360 with 2 Axes>"
      ]
     },
     "metadata": {
      "needs_background": "light"
     },
     "output_type": "display_data"
    }
   ],
   "source": [
    "fig, axs = plt.subplots(1, 2, figsize=(18, 5))\n",
    "\n",
    "gb_logits = clf_cb.predict(clf_ds_test[:, :-1], prediction_type='RawFormulaVal')\n",
    "\n",
    "clf = lambda x: to_numpy(nn_clf(to_torch(x).to(device))).reshape(-1)\n",
    "nn_logits = clf(clf_ds_test[:, :-1])\n",
    "\n",
    "axs[0].hist(gb_logits, alpha=0.6, bins=100);\n",
    "axs[0].set_title('Catboost logits')\n",
    "axs[1].hist(nn_logits, alpha=0.6, bins=100);\n",
    "axs[1].set_title('Densnet logits')"
   ]
  },
  {
   "cell_type": "code",
   "execution_count": null,
   "metadata": {},
   "outputs": [],
   "source": []
  },
  {
   "cell_type": "code",
   "execution_count": null,
   "metadata": {},
   "outputs": [],
   "source": []
  },
  {
   "cell_type": "code",
   "execution_count": null,
   "metadata": {},
   "outputs": [],
   "source": []
  },
  {
   "cell_type": "code",
   "execution_count": 68,
   "metadata": {},
   "outputs": [
    {
     "name": "stdout",
     "output_type": "stream",
     "text": [
      "Calibrated model test LL  9.08264403534402\n"
     ]
    }
   ],
   "source": [
    "n = min(100000, X_test_tensor.shape[0])\n",
    "\n",
    "print('Calibrated model test LL ', -neg_log_likelihood(calibrated_model, X_test_tensor.cpu().detach()) - calibration_constant)\n",
    "\n",
    "clf_ds_train = np.row_stack([\n",
    "    np.column_stack([X_train_tensor[:n].cpu().detach().numpy(), np.ones(n).reshape(-1, 1)]),\n",
    "    np.column_stack([calibrated_model.sample_n(n), np.zeros(n).reshape(-1, 1)])\n",
    "]).astype(np.float32)\n",
    "\n",
    "clf_ds_test = np.row_stack([\n",
    "    np.column_stack([X_test_tensor[:n].cpu().detach().numpy(), np.ones(n).reshape(-1, 1)]),\n",
    "    np.column_stack([calibrated_model.sample_n(n), np.zeros(n).reshape(-1, 1)])\n",
    "]).astype(np.float32)"
   ]
  },
  {
   "cell_type": "code",
   "execution_count": 71,
   "metadata": {},
   "outputs": [
    {
     "data": {
      "text/plain": [
       "0.6955468209"
      ]
     },
     "execution_count": 71,
     "metadata": {},
     "output_type": "execute_result"
    }
   ],
   "source": [
    "preds = clf.predict_proba(clf_ds_test[:, :-1])[:, 1]\n",
    "roc_auc_score(clf_ds_test[:, -1], preds)"
   ]
  },
  {
   "cell_type": "code",
   "execution_count": null,
   "metadata": {},
   "outputs": [],
   "source": []
  }
 ],
 "metadata": {
  "kernelspec": {
   "display_name": "Python 3",
   "language": "python",
   "name": "python3"
  },
  "language_info": {
   "codemirror_mode": {
    "name": "ipython",
    "version": 3
   },
   "file_extension": ".py",
   "mimetype": "text/x-python",
   "name": "python",
   "nbconvert_exporter": "python",
   "pygments_lexer": "ipython3",
   "version": "3.7.3"
  },
  "pycharm": {
   "stem_cell": {
    "cell_type": "raw",
    "metadata": {
     "collapsed": false
    },
    "source": []
   }
  }
 },
 "nbformat": 4,
 "nbformat_minor": 1
}
