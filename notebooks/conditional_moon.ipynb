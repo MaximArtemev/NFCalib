{
 "cells": [
  {
   "cell_type": "code",
   "execution_count": 1,
   "metadata": {},
   "outputs": [
    {
     "name": "stdout",
     "output_type": "stream",
     "text": [
      "env: CUDA_VISIBLE_DEVICES=0\n"
     ]
    }
   ],
   "source": [
    "import sys\n",
    "sys.path.append('..')\n",
    "%env CUDA_VISIBLE_DEVICES=0"
   ]
  },
  {
   "cell_type": "code",
   "execution_count": 98,
   "metadata": {},
   "outputs": [],
   "source": [
    "from sklearn.datasets import make_moons\n",
    "from sklearn.model_selection import train_test_split\n",
    "from sklearn.metrics import roc_auc_score\n",
    "\n",
    "import numpy as np\n",
    "import pandas as pd\n",
    "\n",
    "import torch\n",
    "import torch.nn as nn\n",
    "import torch.optim as optim\n",
    "import torch.nn.functional as F\n",
    "from torch.distributions import MultivariateNormal\n",
    "from catboost import CatBoostClassifier\n",
    "from scipy.special import logsumexp\n",
    "\n",
    "from src.nf import FCNN\n",
    "\n",
    "import matplotlib.pyplot as plt\n",
    "from IPython.display import clear_output\n",
    "import xgboost as xgb\n",
    "\n",
    "%matplotlib inline"
   ]
  },
  {
   "cell_type": "code",
   "execution_count": 3,
   "metadata": {},
   "outputs": [],
   "source": [
    "device = torch.device(\"cuda\" if torch.cuda.is_available() else \"cpu\")"
   ]
  },
  {
   "cell_type": "code",
   "execution_count": 4,
   "metadata": {},
   "outputs": [
    {
     "name": "stdout",
     "output_type": "stream",
     "text": [
      "Sat May  2 17:27:19 2020       \n",
      "+-----------------------------------------------------------------------------+\n",
      "| NVIDIA-SMI 418.87.01    Driver Version: 418.87.01    CUDA Version: 10.1     |\n",
      "|-------------------------------+----------------------+----------------------+\n",
      "| GPU  Name        Persistence-M| Bus-Id        Disp.A | Volatile Uncorr. ECC |\n",
      "| Fan  Temp  Perf  Pwr:Usage/Cap|         Memory-Usage | GPU-Util  Compute M. |\n",
      "|===============================+======================+======================|\n",
      "|   0  Tesla K80           On   | 00001441:00:00.0 Off |                    0 |\n",
      "| N/A   61C    P8    30W / 149W |     11MiB / 11441MiB |      0%      Default |\n",
      "+-------------------------------+----------------------+----------------------+\n",
      "|   1  Tesla K80           On   | 00003533:00:00.0 Off |                    0 |\n",
      "| N/A   50C    P0    71W / 149W |   1046MiB / 11441MiB |      0%      Default |\n",
      "+-------------------------------+----------------------+----------------------+\n",
      "|   2  Tesla K80           On   | 0000D316:00:00.0 Off |                    0 |\n",
      "| N/A   50C    P0    72W / 149W |  10106MiB / 11441MiB |      0%      Default |\n",
      "+-------------------------------+----------------------+----------------------+\n",
      "|   3  Tesla K80           On   | 0000F199:00:00.0 Off |                    0 |\n",
      "| N/A   83C    P0   118W / 149W |   1446MiB / 11441MiB |     96%      Default |\n",
      "+-------------------------------+----------------------+----------------------+\n",
      "                                                                               \n",
      "+-----------------------------------------------------------------------------+\n",
      "| Processes:                                                       GPU Memory |\n",
      "|  GPU       PID   Type   Process name                             Usage      |\n",
      "|=============================================================================|\n",
      "+-----------------------------------------------------------------------------+\n"
     ]
    }
   ],
   "source": [
    "! nvidia-smi"
   ]
  },
  {
   "cell_type": "code",
   "execution_count": 64,
   "metadata": {},
   "outputs": [],
   "source": [
    "def ohe(arr, s, return_tensor=False):\n",
    "    res = np.zeros((arr.size, s), dtype=np.float32)\n",
    "    res[np.arange(arr.size), arr] = 1\n",
    "    if not return_tensor:\n",
    "        return res\n",
    "    else:\n",
    "        return torch.from_numpy(res.astype(np.float32)).to(device)"
   ]
  },
  {
   "cell_type": "code",
   "execution_count": 6,
   "metadata": {},
   "outputs": [
    {
     "data": {
      "text/plain": [
       "<matplotlib.collections.PathCollection at 0x7f96d7ca08d0>"
      ]
     },
     "execution_count": 6,
     "metadata": {},
     "output_type": "execute_result"
    },
    {
     "data": {
      "image/png": "[encoded data removed]",
      "text/plain": [
       "<Figure size 432x288 with 1 Axes>"
      ]
     },
     "metadata": {
      "needs_background": "light"
     },
     "output_type": "display_data"
    }
   ],
   "source": [
    "X, Y = make_moons(10000)\n",
    "Y = ohe(Y, 2).astype(np.float32)\n",
    "n, dim, cond_dim = X.shape[0], X.shape[1], Y.shape[1]\n",
    "X += np.random.normal(0, 0.05, X.shape)\n",
    "X = X.astype(np.float32)\n",
    "X_train, X_test, Y_train, Y_test = train_test_split(X, Y, test_size=0.2)\n",
    "\n",
    "plt.scatter(X_train[:, 0], X_train[:, 1], c=Y_train[:, 0])"
   ]
  },
  {
   "cell_type": "code",
   "execution_count": 7,
   "metadata": {},
   "outputs": [],
   "source": [
    "X_train_tensor = torch.from_numpy(X_train).to(device)\n",
    "X_test_tensor = torch.from_numpy(X_test).to(device)\n",
    "Y_train_tensor = torch.from_numpy(Y_train).to(device)\n",
    "Y_test_tensor = torch.from_numpy(Y_test).to(device)"
   ]
  },
  {
   "cell_type": "code",
   "execution_count": 17,
   "metadata": {},
   "outputs": [],
   "source": [
    "class ConditionalNormalizingFlowModel(nn.Module):\n",
    "\n",
    "    def __init__(self, dim, condition_dim, prior, flows, mu=FCNN, log_sigma=FCNN, hidden_dim=8):\n",
    "        super().__init__()\n",
    "        self.dim = dim\n",
    "        self.condition_dim = condition_dim\n",
    "        self.prior = prior\n",
    "        self.flows = nn.ModuleList(flows)\n",
    "        self.mu = mu(condition_dim, dim, hidden_dim)\n",
    "        self.log_sigma = log_sigma(condition_dim, dim, hidden_dim)\n",
    "\n",
    "    def forward(self, x, condition):\n",
    "        m, _ = x.shape\n",
    "        log_det = torch.zeros(m).to(x.device)\n",
    "        for flow in self.flows:\n",
    "            if hasattr(flow, 'is_conditional'):\n",
    "                x, ld = flow.forward(x, condition)\n",
    "            else:\n",
    "                x, ld = flow.forward(x)\n",
    "            log_det += ld\n",
    "        \n",
    "        mu, log_sigma = self.mu(condition), self.log_sigma(condition)\n",
    "        x = (x - mu) * torch.exp(-log_sigma)\n",
    "        log_det -= log_sigma.sum(dim=1)\n",
    "        z, prior_logprob = x, self.prior.log_prob(x)\n",
    "        return z, prior_logprob, log_det\n",
    "\n",
    "    def backward(self, z, condition):\n",
    "        m, _ = z.shape\n",
    "        log_det = torch.zeros(m).to(z.device)\n",
    "        mu, log_sigma = self.mu(condition), self.log_sigma(condition)\n",
    "        z = z * torch.exp(log_sigma) + mu\n",
    "        log_det += log_sigma.sum(dim=1)\n",
    "        for flow in self.flows[::-1]:\n",
    "            if hasattr(flow, 'is_conditional'):\n",
    "                z, ld = flow.backward(z, condition)\n",
    "            else:\n",
    "                z, ld = flow.backward(z)\n",
    "            log_det += ld\n",
    "        x = z\n",
    "        return x, log_det"
   ]
  },
  {
   "cell_type": "code",
   "execution_count": 18,
   "metadata": {},
   "outputs": [],
   "source": [
    "class ConditionalMAF(nn.Module):\n",
    "    def __init__(self, dim, cond_dim, hidden_dim=8, base_network=FCNN):\n",
    "        super().__init__()\n",
    "        self.dim = dim\n",
    "        self.layers = nn.ModuleList()\n",
    "        self.initial_param = nn.Parameter(torch.Tensor(2))\n",
    "        for i in range(1, dim):\n",
    "            self.layers += [base_network(i + cond_dim, 2, hidden_dim)]\n",
    "        self.reset_parameters()\n",
    "    \n",
    "    @staticmethod\n",
    "    def is_conditional():\n",
    "        return True\n",
    "\n",
    "    def reset_parameters(self):\n",
    "        nn.init.uniform_(self.initial_param, -np.sqrt(0.5), np.sqrt(0.5))\n",
    "\n",
    "    def forward(self, x, condition):\n",
    "        z = torch.zeros_like(x)\n",
    "        log_det = torch.zeros(z.shape[0]).to(x.device)\n",
    "        for i in range(self.dim):\n",
    "            if i == 0:\n",
    "                mu, alpha = self.initial_param[0], self.initial_param[1]\n",
    "            else:\n",
    "                out = self.layers[i - 1](torch.cat([x[:, :i], condition], axis=1))\n",
    "                mu, alpha = out[:, 0], out[:, 1]\n",
    "            z[:, i] = (x[:, i] - mu) / torch.exp(alpha)\n",
    "            log_det -= alpha\n",
    "        return z.flip(dims=(1,)), log_det\n",
    "\n",
    "    def backward(self, z, condition):\n",
    "        x = torch.zeros_like(z)\n",
    "        log_det = torch.zeros(z.shape[0]).to(z.device)\n",
    "        z = z.flip(dims=(1,))\n",
    "        for i in range(self.dim):\n",
    "            if i == 0:\n",
    "                mu, alpha = self.initial_param[0], self.initial_param[1]\n",
    "            else:\n",
    "                out = self.layers[i - 1](torch.cat([x[:, :i], condition], axis=1))\n",
    "                mu, alpha = out[:, 0], out[:, 1]\n",
    "            x[:, i] = mu + torch.exp(alpha) * z[:, i]\n",
    "            log_det += alpha\n",
    "        return x, log_det"
   ]
  },
  {
   "cell_type": "code",
   "execution_count": 55,
   "metadata": {},
   "outputs": [],
   "source": [
    "flows = []\n",
    "for i in range(2):\n",
    "    flows.append(ConditionalMAF(dim, cond_dim).to(device))\n",
    "\n",
    "prior = MultivariateNormal(torch.zeros(dim).to(device), torch.eye(dim).to(device))\n",
    "model = ConditionalNormalizingFlowModel(dim, cond_dim, prior, flows).to(device)\n",
    "optimizer = optim.Adam(model.parameters(), lr=0.005)"
   ]
  },
  {
   "cell_type": "code",
   "execution_count": 56,
   "metadata": {},
   "outputs": [],
   "source": [
    "epoches = 301\n",
    "metrics_ll_train, metrics_ll_test = [], []"
   ]
  },
  {
   "cell_type": "code",
   "execution_count": 57,
   "metadata": {},
   "outputs": [
    {
     "data": {
      "image/png": "[encoded data removed]",
      "text/plain": [
       "<Figure size 1080x432 with 2 Axes>"
      ]
     },
     "metadata": {
      "needs_background": "light"
     },
     "output_type": "display_data"
    }
   ],
   "source": [
    "for i in range(len(metrics_ll_train), epoches):\n",
    "    model.train()\n",
    "    optimizer.zero_grad()\n",
    "    z, logp_z, log_det = model(X_train_tensor, Y_train_tensor)\n",
    "    logp_x = logp_z + log_det\n",
    "    loss = -torch.mean(logp_x)\n",
    "    loss.backward()\n",
    "    optimizer.step()\n",
    "\n",
    "    if i % 100 == 0:\n",
    "        model.eval()\n",
    "        with torch.no_grad():\n",
    "            _, logp_z, log_det = model(X_train_tensor, Y_train_tensor)\n",
    "            metrics_ll_train.append(torch.mean(logp_z + log_det).item())\n",
    "            _, logp_z, log_det = model(X_test_tensor, Y_test_tensor)\n",
    "            metrics_ll_test.append(torch.mean(logp_z + log_det).item())\n",
    "            \n",
    "            z = prior.sample_n(1000)\n",
    "            samples_1, _ = model.backward(z, ohe(np.zeros(z.shape[0], dtype=np.uint32), 2, True))\n",
    "            samples_1 = samples_1.detach().cpu().numpy()\n",
    "            samples_2, _ = model.backward(z, ohe(np.ones(z.shape[0], dtype=np.uint32), 2, True))\n",
    "            samples_2 = samples_2.detach().cpu().numpy()\n",
    "\n",
    "        clear_output(False)\n",
    "        fig, axs = plt.subplots(1, 2, figsize=(15, 6))\n",
    "        \n",
    "        axs[0].plot(metrics_ll_train)\n",
    "        axs[0].plot(metrics_ll_test)\n",
    "        \n",
    "        axs[1].scatter(samples_1[:, 0], samples_1[:, 1])\n",
    "        axs[1].scatter(samples_2[:, 0], samples_2[:, 1])\n",
    "        plt.show()"
   ]
  },
  {
   "cell_type": "code",
   "execution_count": 79,
   "metadata": {},
   "outputs": [],
   "source": [
    "real_data = np.hstack([X_train, Y_train])\n",
    "\n",
    "model.eval()\n",
    "with torch.no_grad():\n",
    "    z = prior.sample_n(real_data.shape[0] // 2)\n",
    "    samples_0, _ = model.backward(z, ohe(np.zeros(z.shape[0], dtype=np.uint32), 2, True))\n",
    "    samples_0 = samples_0.detach().cpu().numpy()\n",
    "\n",
    "    gen_data_0 = np.hstack([\n",
    "        samples_0,\n",
    "        ohe(np.zeros(z.shape[0], dtype=np.uint32), 2)\n",
    "    ])\n",
    "    \n",
    "    samples_1, _ = model.backward(z, ohe(np.ones(z.shape[0], dtype=np.uint32), 2, True))\n",
    "    samples_1 = samples_1.detach().cpu().numpy()\n",
    "\n",
    "    gen_data_1 = np.hstack([\n",
    "        samples_1,\n",
    "        ohe(np.ones(z.shape[0], dtype=np.uint32), 2)\n",
    "    ])\n",
    "\n",
    "X_clf = np.vstack([real_data, gen_data_0, gen_data_1])\n",
    "Y_clf = np.hstack([np.ones(real_data.shape[0]), np.zeros(real_data.shape[0])])\n",
    "\n",
    "X_train_clf, X_test_clf, Y_train_clf, Y_test_clf = train_test_split(X_clf, Y_clf, test_size=0.2)"
   ]
  },
  {
   "cell_type": "code",
   "execution_count": 83,
   "metadata": {},
   "outputs": [
    {
     "data": {
      "text/plain": [
       "(16000, 4)"
      ]
     },
     "execution_count": 83,
     "metadata": {},
     "output_type": "execute_result"
    }
   ],
   "source": [
    "X_clf.shape"
   ]
  },
  {
   "cell_type": "code",
   "execution_count": 84,
   "metadata": {},
   "outputs": [
    {
     "name": "stdout",
     "output_type": "stream",
     "text": [
      "Learning rate set to 0.252763\n",
      "0:\ttest: 0.6664482\tbest: 0.6664482 (0)\ttotal: 18.7ms\tremaining: 1.85s\n",
      "10:\ttest: 0.6862156\tbest: 0.6862156 (10)\ttotal: 180ms\tremaining: 1.45s\n",
      "20:\ttest: 0.6895918\tbest: 0.6895918 (20)\ttotal: 353ms\tremaining: 1.33s\n",
      "30:\ttest: 0.6920110\tbest: 0.6920110 (30)\ttotal: 475ms\tremaining: 1.06s\n",
      "40:\ttest: 0.6946916\tbest: 0.6946916 (40)\ttotal: 629ms\tremaining: 905ms\n",
      "50:\ttest: 0.6965481\tbest: 0.6965481 (50)\ttotal: 785ms\tremaining: 754ms\n",
      "60:\ttest: 0.6993694\tbest: 0.6993694 (60)\ttotal: 935ms\tremaining: 598ms\n",
      "70:\ttest: 0.6995493\tbest: 0.6995493 (70)\ttotal: 1.08s\tremaining: 440ms\n",
      "80:\ttest: 0.6991932\tbest: 0.6995493 (70)\ttotal: 1.24s\tremaining: 290ms\n",
      "90:\ttest: 0.6988257\tbest: 0.6995493 (70)\ttotal: 1.39s\tremaining: 138ms\n",
      "99:\ttest: 0.6991279\tbest: 0.6995493 (70)\ttotal: 1.53s\tremaining: 0us\n",
      "\n",
      "bestTest = 0.6995492789\n",
      "bestIteration = 70\n",
      "\n"
     ]
    }
   ],
   "source": [
    "clf = CatBoostClassifier(\n",
    "    100, eval_metric='AUC',\n",
    "    metric_period=10,\n",
    "    use_best_model=False\n",
    ").fit(\n",
    "    X_train_clf, Y_train_clf,\n",
    "    eval_set=(X_test_clf, Y_test_clf)\n",
    ")"
   ]
  },
  {
   "cell_type": "code",
   "execution_count": 105,
   "metadata": {},
   "outputs": [],
   "source": [
    "calibration_constant_0 = logsumexp(clf.predict(gen_data_0, prediction_type='RawFormulaVal'))\n",
    "calibration_constant_1 = logsumexp(clf.predict(gen_data_1, prediction_type='RawFormulaVal'))"
   ]
  },
  {
   "cell_type": "code",
   "execution_count": 106,
   "metadata": {},
   "outputs": [
    {
     "data": {
      "text/plain": [
       "<matplotlib.image.AxesImage at 0x7f96b6702748>"
      ]
     },
     "execution_count": 106,
     "metadata": {},
     "output_type": "execute_result"
    },
    {
     "data": {
      "image/png": "[encoded data removed]",
      "text/plain": [
       "<Figure size 1080x432 with 4 Axes>"
      ]
     },
     "metadata": {
      "needs_background": "light"
     },
     "output_type": "display_data"
    }
   ],
   "source": [
    "X_val = np.transpose(np.dstack(np.meshgrid(\n",
    "        np.arange(np.min(X_test[:, 0]), np.max(X_test[:, 0]), 0.05),\n",
    "        np.arange(np.min(X_test[:, 1]), np.max(X_test[:, 1]), 0.05),\n",
    "    )), axes=[1, 0, 2]).astype(np.float32)\n",
    "\n",
    "logits_1 = clf.predict(\n",
    "    np.hstack([X_val.reshape(-1, 2), ohe(np.ones(X_val.reshape(-1, 2).shape[0], dtype=np.uint8), 2)]),\n",
    "    prediction_type='RawFormulaVal'\n",
    ")\n",
    "logits_0 = clf.predict(\n",
    "    np.hstack([X_val.reshape(-1, 2), ohe(np.zeros(X_val.reshape(-1, 2).shape[0], dtype=np.uint8), 2)]),\n",
    "    prediction_type='RawFormulaVal'\n",
    ")\n",
    "\n",
    "model.eval()\n",
    "with torch.no_grad():\n",
    "    _, logp_z, log_det = model(\n",
    "        torch.from_numpy(\n",
    "            X_val.reshape(-1, 2),\n",
    "        ).to(device),\n",
    "        ohe(np.zeros(X_val.reshape(-1, 2).shape[0], dtype=np.uint8), 2, True)\n",
    "    )\n",
    "    log_probs_0 = logp_z + log_det\n",
    "    log_probs_0 = log_probs_0.detach().cpu().numpy()\n",
    "    probs_0 = np.exp(log_probs_0).reshape(X_val.shape[0], X_val.shape[1])\n",
    "    probs_0_fixed = np.exp(log_probs_0 + logits_0 - calibration_constant_0).reshape(X_val.shape[0], X_val.shape[1])\n",
    "\n",
    "    _, logp_z, log_det = model(\n",
    "        torch.from_numpy(\n",
    "            X_val.reshape(-1, 2),\n",
    "        ).to(device),\n",
    "        ohe(np.ones(X_val.reshape(-1, 2).shape[0], dtype=np.uint8), 2, True)\n",
    "    )\n",
    "    log_probs_1 = logp_z + log_det\n",
    "    log_probs_1 = log_probs_1.detach().cpu().numpy()\n",
    "    probs_1 = np.exp(log_probs_1).reshape(X_val.shape[0], X_val.shape[1])\n",
    "    probs_1_fixed = np.exp(log_probs_1 + logits_1 - calibration_constant_1).reshape(X_val.shape[0], X_val.shape[1])\n",
    "    \n",
    "\n",
    "fig, axs = plt.subplots(2, 2, figsize=(15, 6))\n",
    "\n",
    "axs[0, 0].imshow(probs_0.T[::-1])\n",
    "axs[0, 1].imshow(probs_1.T[::-1])\n",
    "\n",
    "axs[1, 0].imshow(probs_0_fixed.T[::-1])\n",
    "axs[1, 1].imshow(probs_1_fixed.T[::-1])"
   ]
  },
  {
   "cell_type": "code",
   "execution_count": null,
   "metadata": {},
   "outputs": [],
   "source": []
  },
  {
   "cell_type": "code",
   "execution_count": null,
   "metadata": {},
   "outputs": [],
   "source": []
  }
 ],
 "metadata": {
  "kernelspec": {
   "display_name": "Python 3",
   "language": "python",
   "name": "python3"
  },
  "language_info": {
   "codemirror_mode": {
    "name": "ipython",
    "version": 3
   },
   "file_extension": ".py",
   "mimetype": "text/x-python",
   "name": "python",
   "nbconvert_exporter": "python",
   "pygments_lexer": "ipython3",
   "version": "3.6.9"
  }
 },
 "nbformat": 4,
 "nbformat_minor": 4
}
