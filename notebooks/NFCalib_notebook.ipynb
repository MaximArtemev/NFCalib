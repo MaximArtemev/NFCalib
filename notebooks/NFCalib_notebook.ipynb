{
 "cells": [
  {
   "cell_type": "code",
   "execution_count": 1,
   "metadata": {
    "pycharm": {
     "is_executing": true
    }
   },
   "outputs": [
    {
     "name": "stdout",
     "output_type": "stream",
     "text": [
      "env: CUDA_VISIBLE_DEVICES=0\n"
     ]
    },
    {
     "data": {
      "text/plain": [
       "device(type='cuda')"
      ]
     },
     "execution_count": 1,
     "metadata": {},
     "output_type": "execute_result"
    }
   ],
   "source": [
    "import sys\n",
    "sys.path.append('..')\n",
    "%env CUDA_VISIBLE_DEVICES=0\n",
    "\n",
    "import numpy as np\n",
    "import matplotlib.pyplot as plt\n",
    "%matplotlib inline\n",
    "\n",
    "import torch\n",
    "import torch.nn as nn\n",
    "import os\n",
    "\n",
    "os.environ['KMP_DUPLICATE_LIB_OK'] = 'True'\n",
    "device = torch.device(\"cuda\" if torch.cuda.is_available() else \"cpu\")\n",
    "\n",
    "device"
   ]
  },
  {
   "cell_type": "markdown",
   "metadata": {},
   "source": [
    "### Setup"
   ]
  },
  {
   "cell_type": "code",
   "execution_count": 2,
   "metadata": {},
   "outputs": [],
   "source": [
    "data_name = 'POWER'\n",
    "model = 'MAF'\n",
    "\n",
    "num_layers = 5\n",
    "num_epoch = 20000\n",
    "if model == 'SPLINE-AR':\n",
    "    num_epoch = 10000\n",
    "\n",
    "model_name = f\"{model}_{num_layers}\"\n",
    "\n",
    "model_save_dir = f'../models/{data_name}/{model_name}/'\n",
    "os.makedirs(f'{model_save_dir}/checkpoints', exist_ok=True)\n"
   ]
  },
  {
   "cell_type": "markdown",
   "metadata": {},
   "source": [
    "### Data"
   ]
  },
  {
   "cell_type": "code",
   "execution_count": 3,
   "metadata": {
    "pycharm": {
     "is_executing": false,
     "metadata": false,
     "name": "#%%\n"
    }
   },
   "outputs": [],
   "source": [
    "from utils import data_utils\n",
    "\n",
    "data_mapping = {'BSDS300': data_utils.BSDS300,\n",
    "                'GAS': data_utils.GAS,\n",
    "                'MINIBOONE': data_utils.MINIBOONE,\n",
    "                'POWER': data_utils.POWER,\n",
    "                'HEPMASS': data_utils.HEPMASS}\n",
    "data = data_mapping[data_name]()\n",
    "\n",
    "dim = data.n_dims\n"
   ]
  },
  {
   "cell_type": "code",
   "execution_count": 4,
   "metadata": {
    "pycharm": {
     "is_executing": false,
     "metadata": false,
     "name": "#%%\n"
    }
   },
   "outputs": [],
   "source": [
    "X_train_tensor = torch.from_numpy(data.trn.x)\n",
    "X_test_tensor = torch.from_numpy(data.tst.x)"
   ]
  },
  {
   "cell_type": "code",
   "execution_count": 5,
   "metadata": {},
   "outputs": [],
   "source": [
    "from torch.distributions import MultivariateNormal\n",
    "\n",
    "prior = MultivariateNormal(torch.zeros(data.n_dims).to(device),\n",
    "                           torch.eye(data.n_dims).to(device))\n"
   ]
  },
  {
   "cell_type": "code",
   "execution_count": 6,
   "metadata": {},
   "outputs": [],
   "source": [
    "from src.mrartemev_nflib.flows import NormalizingFlowModel, InvertiblePermutation, Invertible1x1Conv, ActNorm, NSF_AR\n",
    "from src.mrartemev_nflib.flows import MAF, AffineHalfFlow\n",
    "from src.mrartemev_nflib.nn import ARMLP, MLP\n",
    "\n",
    "\n",
    "flows = []\n",
    "for _ in range(num_layers):\n",
    "    if model == 'MAF':\n",
    "        flows.append(MAF(dim=data.n_dims, base_network=ARMLP))\n",
    "        flows.append(InvertiblePermutation(dim=data.n_dims))\n",
    "    if model == 'SPLINE-AR':\n",
    "        flows.append(ActNorm(dim=data.n_dims))\n",
    "        flows.append(Invertible1x1Conv(dim=data.n_dims))\n",
    "        flows.append(NSF_AR(dim=data.n_dims, K=8, B=3, hidden_features=32, depth=1, base_network=MLP))\n",
    "    if model == 'GLOW':\n",
    "        flows.append(ActNorm(dim=data.n_dims))\n",
    "        flows.append(Invertible1x1Conv(dim=data.n_dims))\n",
    "        flows.append(AffineHalfFlow(dim=data.n_dims, hidden_features=32, base_network=MLP))\n",
    "        flows.append(InvertiblePermutation(dim=data.n_dims))\n",
    "    if model == 'RealNVP':\n",
    "        flows.append(AffineHalfFlow(dim=data.ndims))\n",
    "        flows.append(InvertiblePermutation(dim=data.n_dims))\n",
    "\n",
    "lr = 0.0001\n",
    "if model == 'SPLINE-AR':\n",
    "    lr *= 10\n",
    "        \n",
    "model = NormalizingFlowModel(prior, flows).to(device)\n",
    "optimizer = torch.optim.Adam(model.parameters(), lr=lr)"
   ]
  },
  {
   "cell_type": "code",
   "execution_count": 7,
   "metadata": {},
   "outputs": [],
   "source": [
    "def to_device(model, device):\n",
    "    model.to(device)\n",
    "    model.prior = MultivariateNormal(torch.zeros(data.n_dims).to(device),\n",
    "                                     torch.eye(data.n_dims).to(device))\n",
    "\n",
    "to_device(model, device)"
   ]
  },
  {
   "cell_type": "code",
   "execution_count": 8,
   "metadata": {},
   "outputs": [],
   "source": [
    "from torch.utils.data import Dataset, DataLoader, TensorDataset\n",
    "\n",
    "dloader = DataLoader(TensorDataset(X_train_tensor), batch_size=2**12,\n",
    "                     shuffle=True, drop_last=True, num_workers=6)\n",
    "test_dloader = DataLoader(TensorDataset(X_test_tensor), batch_size=2**12,\n",
    "                          shuffle=True, drop_last=True, num_workers=6)\n"
   ]
  },
  {
   "cell_type": "code",
   "execution_count": 9,
   "metadata": {},
   "outputs": [],
   "source": [
    "from IPython.display import clear_output\n",
    "from tqdm import tqdm\n",
    "\n",
    "\n",
    "plot_freq = 1500\n",
    "\n",
    "epoch_losses = []\n",
    "train_losses = []"
   ]
  },
  {
   "cell_type": "code",
   "execution_count": null,
   "metadata": {
    "scrolled": true
   },
   "outputs": [
    {
     "data": {
      "image/png": "[encoded data removed]",
      "text/plain": [
       "<Figure size 1080x360 with 1 Axes>"
      ]
     },
     "metadata": {
      "needs_background": "light"
     },
     "output_type": "display_data"
    },
    {
     "name": "stderr",
     "output_type": "stream",
     "text": [
      " 18%|█▊        | 3623/20000 [10:09:22<46:20:39, 10.19s/it]"
     ]
    }
   ],
   "source": [
    "for epoch in tqdm(range(len(epoch_losses), num_epoch), position=0):\n",
    "    for ind, batch in enumerate(dloader):\n",
    "        model.train()\n",
    "        \n",
    "        # fit\n",
    "        optimizer.zero_grad()\n",
    "        logp_x = model.log_prob(batch[0].to(device))\n",
    "        loss = -torch.mean(logp_x)\n",
    "        loss.backward()\n",
    "        \n",
    "        # clip\n",
    "        torch.nn.utils.clip_grad_norm_(model.parameters(), 1)\n",
    "                \n",
    "        # step\n",
    "        optimizer.step()\n",
    "\n",
    "        # log\n",
    "        train_losses.append(-loss.item())\n",
    "\n",
    "    # eval\n",
    "    with torch.no_grad():\n",
    "        model.eval()\n",
    "        logp_x = np.mean([torch.mean(model.log_prob(batch[0].to(device))).item() for batch in test_dloader])\n",
    "        epoch_losses.append([np.mean(train_losses), logp_x])\n",
    "    \n",
    "    # show\n",
    "    if epoch % plot_freq == 0 and epoch != 0:        \n",
    "        clear_output(True)\n",
    "        plt.figure(figsize=(15, 5))\n",
    "        val_losses = np.array(epoch_losses)\n",
    "        plt.plot(val_losses[:, 0], label='train_mean_loss')\n",
    "        plt.plot(val_losses[:, 1], label='val_mean_loss')\n",
    "        plt.grid()\n",
    "        plt.legend()\n",
    "        plt.show()\n",
    "        \n",
    "    # checkpoint\n",
    "    if epoch % plot_freq == 0 and epoch != 0:        \n",
    "        torch.save(model.state_dict(),\n",
    "                   os.path.join(model_save_dir, 'checkpoints', f'{epoch}_model.state_dict'))\n",
    "        torch.save(optimizer.state_dict(),\n",
    "                   os.path.join(model_save_dir, 'checkpoints', f'{epoch}_optimizer.state_dict'))\n",
    "        \n",
    "\n",
    "        "
   ]
  },
  {
   "cell_type": "code",
   "execution_count": null,
   "metadata": {},
   "outputs": [],
   "source": []
  },
  {
   "cell_type": "code",
   "execution_count": null,
   "metadata": {},
   "outputs": [],
   "source": [
    "torch.save(model.state_dict(), os.path.join(model_save_dir, 'model.state_dict'))\n",
    "torch.save(optimizer.state_dict(), os.path.join(model_save_dir, 'optimizer.state_dict'))\n"
   ]
  },
  {
   "cell_type": "code",
   "execution_count": null,
   "metadata": {},
   "outputs": [],
   "source": [
    "# model.load_state_dict(torch.load(os.path.join(model_save_dir, 'model.state_dict')))"
   ]
  },
  {
   "cell_type": "markdown",
   "metadata": {},
   "source": [
    "### Model eval"
   ]
  },
  {
   "cell_type": "code",
   "execution_count": null,
   "metadata": {},
   "outputs": [],
   "source": [
    "from catboost import CatBoostClassifier\n",
    "from sklearn.metrics import roc_auc_score\n",
    "\n",
    "from src.nf import CalibratedModel, neg_log_likelihood\n",
    "from src.nf.classifiers import train_catboost_clf\n",
    "from scipy.special import logsumexp\n"
   ]
  },
  {
   "cell_type": "code",
   "execution_count": null,
   "metadata": {},
   "outputs": [],
   "source": [
    "model.eval()\n",
    "model.sample_n = lambda x: model.sample(x)\n",
    "\n",
    "to_device(model, 'cpu')"
   ]
  },
  {
   "cell_type": "code",
   "execution_count": null,
   "metadata": {},
   "outputs": [],
   "source": [
    "n = min(100000, X_test_tensor.shape[0])\n",
    "\n",
    "print('Model test LL ', torch.mean(model.log_prob(X_test_tensor[:n])).item())\n",
    "\n",
    "clf_ds_train = np.row_stack([\n",
    "    np.column_stack([X_train_tensor[:n].detach().numpy(), np.ones(n).reshape(-1, 1)]),\n",
    "    np.column_stack([model.sample(n).detach().numpy(), np.zeros(n).reshape(-1, 1)])\n",
    "]).astype(np.float32)\n",
    "\n",
    "clf_ds_test = np.row_stack([\n",
    "    np.column_stack([X_test_tensor[:n].detach().numpy(), np.ones(n).reshape(-1, 1)]),\n",
    "    np.column_stack([model.sample(n).detach().numpy(), np.zeros(n).reshape(-1, 1)])\n",
    "]).astype(np.float32)"
   ]
  },
  {
   "cell_type": "code",
   "execution_count": null,
   "metadata": {},
   "outputs": [],
   "source": []
  },
  {
   "cell_type": "code",
   "execution_count": null,
   "metadata": {},
   "outputs": [],
   "source": [
    "clf = CatBoostClassifier(\n",
    "    5000, eval_metric='AUC',\n",
    "    metric_period=1000,\n",
    ").fit(\n",
    "    clf_ds_train[:, :-1], clf_ds_train[:, -1],\n",
    "    eval_set=(clf_ds_test[:, :-1], clf_ds_test[:, -1])\n",
    ")"
   ]
  },
  {
   "cell_type": "code",
   "execution_count": null,
   "metadata": {
    "pycharm": {
     "is_executing": false,
     "metadata": false,
     "name": "#%%\n"
    }
   },
   "outputs": [],
   "source": [
    "calibrated_model = CalibratedModel(clf, model, logit=True)\n",
    "\n",
    "samples = model.sample(n).detach().cpu().numpy()\n",
    "clf_preds = clf.predict(samples, prediction_type='RawFormulaVal')\n",
    "calibration_constant = logsumexp(clf_preds) - np.log(len(clf_preds))\n",
    "\n",
    "-neg_log_likelihood(model, X_test_tensor), \\\n",
    "-neg_log_likelihood(calibrated_model, X_test_tensor) - calibration_constant,"
   ]
  },
  {
   "cell_type": "code",
   "execution_count": null,
   "metadata": {},
   "outputs": [],
   "source": []
  }
 ],
 "metadata": {
  "kernelspec": {
   "display_name": "Python 3",
   "language": "python",
   "name": "python3"
  },
  "language_info": {
   "codemirror_mode": {
    "name": "ipython",
    "version": 3
   },
   "file_extension": ".py",
   "mimetype": "text/x-python",
   "name": "python",
   "nbconvert_exporter": "python",
   "pygments_lexer": "ipython3",
   "version": "3.6.9"
  },
  "pycharm": {
   "stem_cell": {
    "cell_type": "raw",
    "metadata": {
     "collapsed": false
    },
    "source": []
   }
  }
 },
 "nbformat": 4,
 "nbformat_minor": 1
}
